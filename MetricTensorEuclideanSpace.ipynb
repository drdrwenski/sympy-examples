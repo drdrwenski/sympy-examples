{
  "nbformat": 4,
  "nbformat_minor": 0,
  "metadata": {
    "colab": {
      "provenance": [],
      "include_colab_link": true
    },
    "kernelspec": {
      "name": "python3",
      "display_name": "Python 3"
    },
    "language_info": {
      "name": "python"
    }
  },
  "cells": [
    {
      "cell_type": "markdown",
      "metadata": {
        "id": "view-in-github",
        "colab_type": "text"
      },
      "source": [
        "<a href=\"https://colab.research.google.com/github/drdrwenski/sympy-examples/blob/main/MetricTensorEuclideanSpace.ipynb\" target=\"_parent\"><img src=\"https://colab.research.google.com/assets/colab-badge.svg\" alt=\"Open In Colab\"/></a>"
      ]
    },
    {
      "cell_type": "markdown",
      "source": [
        "# Metric Tensor in Euclidean Space"
      ],
      "metadata": {
        "id": "K615gbJ-7uPu"
      }
    },
    {
      "cell_type": "markdown",
      "source": [
        "The metric tensor is a fundamental concept in the field of differential geometry and general relativity. It is a mathematical object that encodes the intrinsic geometry of a space, allowing us to measure distances, angles, and volumes within that space.\n",
        "At its core, the metric tensor is a second-rank tensor that describes the local curvature and distance relationships in a given coordinate system. It is a symmetric, positive-definite matrix that transforms covariantly under changes of the coordinate system. This means that the metric tensor contains all the information needed to perform measurements and calculations within the space, regardless of how the coordinates are defined."
      ],
      "metadata": {
        "id": "QCUm9XbG6x7Y"
      }
    },
    {
      "cell_type": "markdown",
      "source": [
        "##Preliminaries"
      ],
      "metadata": {
        "id": "ZoPDchEb-XYT"
      }
    },
    {
      "cell_type": "markdown",
      "source": [
        "First, upgrade to the latest version of SymPy if necessary. This should be at least **v1.10**."
      ],
      "metadata": {
        "id": "JignJRQFMOKk"
      }
    },
    {
      "cell_type": "code",
      "source": [
        "%%capture\n",
        "%pip install --upgrade sympy"
      ],
      "metadata": {
        "id": "J1qIZeGtyZ4J"
      },
      "execution_count": 1,
      "outputs": []
    },
    {
      "cell_type": "markdown",
      "source": [
        "Next, we define some output helper functions, providing shorthand notations for derivatives in curvilinear coordinates (still not working perfectly well)."
      ],
      "metadata": {
        "id": "qfXCnkD4cO7c"
      }
    },
    {
      "cell_type": "code",
      "source": [
        "#@title Output Helper Functions\n",
        "from IPython.display import display, Markdown\n",
        "from sympy import latex\n",
        "\n",
        "def displayLatex(expr, **kwargs):\n",
        "  intro = kwargs.get('intro', '')\n",
        "  output = rf'$\\displaystyle {intro} {latex(expr)}$'\n",
        "  display(Markdown(output))\n",
        "\n",
        "def displayLeibniz(expr,func,sys):\n",
        "  leibnizComplete = ''\n",
        "  for term in expr.args:\n",
        "    leibniz = latex(term)\n",
        "    # find second derivatives\n",
        "    for i,j in zip(range(sys.dim),range(sys.dim)):\n",
        "      coordStr0 = latex(sys.base_scalar(i))\n",
        "      coordStr1 = latex(sys.base_scalar(j))\n",
        "      # original notation\n",
        "      replStr = latex(Differential(Differential(func)(sys.base_vector(i)))(sys.base_vector(j)))\n",
        "      # shorthand notation\n",
        "      if i == j:\n",
        "        subsStr = rf'\\frac{{\\partial^{{2}} {func.name}}}{{\\partial {coordStr0}^{{2}}}}'\n",
        "      else:\n",
        "        subsStr = rf'\\frac{{\\partial^{{2}} {func.name}}}{{\\partial {coordStr1} \\partial {coordStr0}}}'\n",
        "      if leibniz.find(replStr) >= 0:\n",
        "        leibniz = leibniz.replace(replStr,'')\n",
        "        leibniz = leibniz + subsStr\n",
        "    # find first derivatives\n",
        "    for i in range(sys.dim):\n",
        "      coordStr = latex(sys.base_scalar(i))\n",
        "      baseStr = latex(sys.base_vector(i))\n",
        "      # original notation\n",
        "      replStr = latex(Differential(func)(sys.base_vector(i)))\n",
        "      # shorthand notation\n",
        "      subsStr = rf'\\frac{{\\partial {func.name}}}{{\\partial {coordStr}}}'\n",
        "      if leibniz.find(replStr) >= 0:\n",
        "        leibniz = leibniz.replace(replStr,'')\n",
        "        leibniz = leibniz + subsStr\n",
        "      # rearrange terms\n",
        "      if leibniz.find(baseStr) >= 0:\n",
        "        leibniz = leibniz.replace(baseStr,'')\n",
        "        leibniz = leibniz + baseStr\n",
        "    # rebuild sum of derivatives\n",
        "    if len(leibnizComplete) == 0:\n",
        "      leibnizComplete = leibniz\n",
        "    else:\n",
        "      leibnizComplete = leibnizComplete + '+' + leibniz\n",
        "  leibnizComplete = leibnizComplete.replace(rf'\\frac{{ }}',rf'\\frac{{1}}')\n",
        "  leibnizComplete = leibnizComplete.replace(rf'\\frac{{}}',rf'\\frac{{1}}')\n",
        "  display(Markdown(rf'$\\displaystyle {leibnizComplete}$'))"
      ],
      "metadata": {
        "id": "2lHf23A3b942",
        "cellView": "form"
      },
      "execution_count": 2,
      "outputs": []
    },
    {
      "cell_type": "markdown",
      "source": [
        "##Curvilinear Coordinates"
      ],
      "metadata": {
        "id": "L20g0tLz2_LF"
      }
    },
    {
      "cell_type": "markdown",
      "source": [
        "Spherical & cylindrical 3D coordinates are introduced utilizing the vector module. The Cartesian coordinate system serves as the parent instance for all other types of coordinate systems since we are considering Euclidean space. Coordinate transformations are then stored as symbolic expressions in a Python dictionary *relations*.\n",
        "Additional dictionaries provide simplification methods tailored to each coordinate system, enhancing computational efficiency and readability of results."
      ],
      "metadata": {
        "id": "pDzh6MpHMdr1"
      }
    },
    {
      "cell_type": "code",
      "source": [
        "from sympy.vector import CoordSys3D\n",
        "Cart = CoordSys3D('Cart')\n",
        "Spher = Cart.create_new('Spher', transformation='spherical')\n",
        "Cyl = Cart.create_new('Cyl', transformation='cylindrical')\n",
        "\n",
        "# Since there is no built-in transformation_to_parent_function() yet,\n",
        "# we apply the following workaround.\n",
        "def transformation_to_parent_function(child, scalars):\n",
        "  sc = (scalars, child.base_scalars())\n",
        "  abbrev = [(sc[1][i],sc[0][i]) for i in range(3)]\n",
        "  return tuple(expr.subs(abbrev) for expr in child.transformation_to_parent())\n",
        "\n",
        "from sympy import symbols, Function, Lambda\n",
        "from sympy import sqrt\n",
        "x, y, z = symbols('x y z', real=True)\n",
        "r, theta, phi = symbols('r theta phi', nonnegative=True)\n",
        "\n",
        "# Python dictionary of coordinate transformations\n",
        "relations = {\n",
        "        ('Cartesian','Spherical'):\n",
        "            Lambda((x,y,z), Spher.transformation_from_parent_function()(x,y,z)),\n",
        "        ('Spherical','Cartesian'):\n",
        "            Lambda((r,theta,phi), transformation_to_parent_function(Spher, (r,theta,phi))),\n",
        "        ('Cartesian','Cylindrical'):\n",
        "            Lambda((x,y,z), Cyl.transformation_from_parent_function()(x,y,z)),\n",
        "        ('Cylindrical','Cartesian'):\n",
        "            Lambda((r,theta,z), transformation_to_parent_function(Cyl, (r,theta,z)))\n",
        "}\n",
        "\n",
        "# Python dictionaries of simplification strategies\n",
        "from sympy import simplify, expand, factor, cancel\n",
        "from sympy import expand_power_base, powdenest\n",
        "from sympy.simplify.fu import fu, TR6\n",
        "from functools import reduce\n",
        "from operator import mul\n",
        "\n",
        "simplifications = {\n",
        "    'Spherical': (lambda elem: expand(TR6(factor(elem)))),\n",
        "    'Cylindrical': (lambda elem: expand(TR6(factor(elem))))\n",
        "}\n",
        "\n",
        "powers = {\n",
        "    'Spherical': (lambda elem: powdenest(expand_power_base(elem, force=True), force=True)),\n",
        "    'Cylindrical': (lambda elem: powdenest(elem, force=True))\n",
        "}"
      ],
      "metadata": {
        "id": "JQo3XW0JGdZC"
      },
      "execution_count": 11,
      "outputs": []
    },
    {
      "cell_type": "markdown",
      "source": [
        "We also provide a coordinate transformation from an ellipsoidal coordinate system to a Cartesian coordinate system."
      ],
      "metadata": {
        "id": "sSol0uROnT0I"
      }
    },
    {
      "cell_type": "code",
      "source": [
        "# Check assumptions:\n",
        "xi, eta, zeta = symbols('xi eta zeta', real=True)\n",
        "a, b, c = symbols('a b c', nonnegative=True)\n",
        "\n",
        "exprs = tuple(\n",
        "    sqrt(reduce(mul, [(coord**2+ellips) for ellips in (xi,eta,zeta)])/\n",
        "         reduce(mul, [(cart**2-coord**2) for cart in (a,b,c) if cart != coord]))\n",
        "    for coord in (a,b,c)\n",
        ")\n",
        "\n",
        "relations[('Ellipsoidal','Cartesian')] = Lambda((xi,eta,zeta), exprs)\n",
        "simplifications['Ellipsoidal'] = (lambda elem: factor(cancel(elem)))\n",
        "powers['Ellipsoidal'] = (lambda elem: elem)\n",
        "\n",
        "displayLatex(exprs[0])"
      ],
      "metadata": {
        "id": "wqCahiPaRhHJ",
        "colab": {
          "base_uri": "https://localhost:8080/",
          "height": 80
        },
        "outputId": "93490386-7be4-442d-f8dc-9e4a61983fb0"
      },
      "execution_count": 17,
      "outputs": [
        {
          "output_type": "display_data",
          "data": {
            "text/plain": [
              "<IPython.core.display.Markdown object>"
            ],
            "text/markdown": "$\\displaystyle  \\sqrt{\\frac{\\left(a^{2} + \\eta\\right) \\left(a^{2} + \\xi\\right) \\left(a^{2} + \\zeta\\right)}{\\left(- a^{2} + b^{2}\\right) \\left(- a^{2} + c^{2}\\right)}}$"
          },
          "metadata": {}
        }
      ]
    },
    {
      "cell_type": "markdown",
      "source": [
        "##Metric Tensor"
      ],
      "metadata": {
        "id": "ncHiZ_yT3aOh"
      }
    },
    {
      "cell_type": "markdown",
      "source": [
        "We set up a 3-dimensional manifold, define a patch on that manifold, and create two coordinate systems on that patch: one Cartesian and one of a user-chosen type ('Spherical', 'Cylindrical' or 'Ellipsoidal')."
      ],
      "metadata": {
        "id": "kmDlYDSeM5EJ"
      }
    },
    {
      "cell_type": "code",
      "source": [
        "from sympy.diffgeom import Manifold, Patch, CoordSystem, Point\n",
        "M = Manifold('M', 3)\n",
        "P = Patch('P', M)\n",
        "\n",
        "# Try any of 'Spherical', 'Cylindrical', 'Ellipsoidal'\n",
        "CoordSystemType = 'Spherical'\n",
        "CoordSystemSymbols = relations.get((CoordSystemType,'Cartesian')).args[0]\n",
        "\n",
        "R3 = CoordSystem('Cartesian', P, (x,y,z), relations)\n",
        "S0 = CoordSystem(CoordSystemType, P, CoordSystemSymbols, relations)\n",
        "\n",
        "# point = Point(S0, (1,0,0))\n",
        "# displayLatex(point.coords(R3))"
      ],
      "metadata": {
        "id": "ngZRWFLKr2pY"
      },
      "execution_count": 19,
      "outputs": []
    },
    {
      "cell_type": "markdown",
      "source": [
        "In applications the metric tensor with respect to curvilinear coordinates is usually displayed either as a quadratic form $\\ ds^2$ or as a matrix $\\ (g_{ij})$."
      ],
      "metadata": {
        "id": "60OxGzdAvXx7"
      }
    },
    {
      "cell_type": "code",
      "execution_count": 20,
      "metadata": {
        "id": "AjWyxeJtEEca",
        "colab": {
          "base_uri": "https://localhost:8080/",
          "height": 147
        },
        "outputId": "529fc160-c34c-4f5e-816d-0d772ac4b405"
      },
      "outputs": [
        {
          "output_type": "display_data",
          "data": {
            "text/plain": [
              "<IPython.core.display.Markdown object>"
            ],
            "text/markdown": "$\\displaystyle ds^2 = \\sin^{2}{\\left(\\mathbf{\\theta} \\right)} \\mathbf{r}^{2} \\operatorname{d}\\phi \\otimes \\operatorname{d}\\phi + \\mathbf{r}^{2} \\operatorname{d}\\theta \\otimes \\operatorname{d}\\theta + \\operatorname{d}r \\otimes \\operatorname{d}r$"
          },
          "metadata": {}
        },
        {
          "output_type": "display_data",
          "data": {
            "text/plain": [
              "<IPython.core.display.Markdown object>"
            ],
            "text/markdown": "$\\displaystyle (g_{ij}) =  \\left[\\begin{matrix}1 & 0 & 0\\\\0 & \\mathbf{r}^{2} & 0\\\\0 & 0 & \\sin^{2}{\\left(\\mathbf{\\theta} \\right)} \\mathbf{r}^{2}\\end{matrix}\\right]$"
          },
          "metadata": {}
        },
        {
          "output_type": "display_data",
          "data": {
            "text/plain": [
              "<IPython.core.display.Markdown object>"
            ],
            "text/markdown": "$\\displaystyle \\det (g_{ij}) =  \\sin{\\left(\\mathbf{\\theta} \\right)} \\mathbf{r}^{2}$"
          },
          "metadata": {}
        }
      ],
      "source": [
        "from sympy.matrices import Matrix, diag\n",
        "from sympy.diffgeom import TensorProduct\n",
        "\n",
        "nrange = range(S0.dim)\n",
        "\n",
        "Jacob = S0.jacobian(R3, S0.base_scalars())\n",
        "G_metric = Jacob.T * Jacob\n",
        "G_metric = G_metric.as_mutable().applyfunc(simplifications.get(CoordSystemType,simplify)).as_immutable()\n",
        "\n",
        "if G_metric.is_diagonal():\n",
        "  diagonal = [G_metric[i,i] for i in nrange]\n",
        "  G_inv = diag(*[1/d for d in diagonal])\n",
        "  G_sqrt = sqrt(reduce(mul,diagonal))\n",
        "  G_sqrt = powers.get(CoordSystemType,simplify)(G_sqrt)\n",
        "else:\n",
        "  G_inv = G_metric.inv()\n",
        "  G_sqrt = Jacob.det()\n",
        "\n",
        "metric_Tensor = sum([ G_metric[i,j] * TensorProduct(S0.base_oneform(i), S0.base_oneform(j))\n",
        "                      for (i,j) in zip(nrange,nrange) ])\n",
        "                    # for i in range(S0.dim) for j in range(S0.dim) ])\n",
        "\n",
        "displayLatex(metric_Tensor, intro = 'ds^2 =')\n",
        "displayLatex(G_metric, intro = '(g_{ij}) = ')\n",
        "displayLatex(G_sqrt, intro = r'\\det (g_{ij}) = ')\n",
        "# display(Markdown(rf'$\\text{{Metric tensor}} {latex(G_metric)} \\text{{with its determinant }} {latex(G_sqrt)}.$'))"
      ]
    },
    {
      "cell_type": "code",
      "source": [
        "from sympy.diffgeom import Differential\n",
        "fr, ftheta, fphi = S0.base_scalars()\n",
        "e_r, e_theta, e_phi = S0.base_vectors()\n",
        "potential = 1/fr\n",
        "Differential(potential)(e_r)"
      ],
      "metadata": {
        "colab": {
          "base_uri": "https://localhost:8080/",
          "height": 51
        },
        "id": "PtrwRFPEFReW",
        "outputId": "e9557f10-4397-42f6-ed96-bcf7ff6ca49c"
      },
      "execution_count": null,
      "outputs": [
        {
          "output_type": "execute_result",
          "data": {
            "text/plain": [
              "-1/r**2"
            ],
            "text/latex": "$\\displaystyle - \\frac{1}{\\mathbf{r}^{2}}$"
          },
          "metadata": {},
          "execution_count": 7
        }
      ]
    },
    {
      "cell_type": "code",
      "source": [
        "Differential(G_metric[1,1])(e_r)"
      ],
      "metadata": {
        "colab": {
          "base_uri": "https://localhost:8080/",
          "height": 74
        },
        "id": "PMu_HLGsxUmb",
        "outputId": "5daacccf-d5d8-4ff0-bc58-2e72f9d8757b"
      },
      "execution_count": null,
      "outputs": [
        {
          "output_type": "execute_result",
          "data": {
            "text/plain": [
              "2*(sin(theta)**2*sin(phi)**2*r + sin(theta)**2*cos(phi)**2*r + cos(theta)**2*r)*r/sqrt(sin(theta)**2*sin(phi)**2*r**2 + sin(theta)**2*cos(phi)**2*r**2 + cos(theta)**2*r**2)"
            ],
            "text/latex": "$\\displaystyle \\frac{2 \\left(\\sin^{2}{\\left(\\mathbf{\\theta} \\right)} \\sin^{2}{\\left(\\mathbf{\\phi} \\right)} \\mathbf{r} + \\sin^{2}{\\left(\\mathbf{\\theta} \\right)} \\cos^{2}{\\left(\\mathbf{\\phi} \\right)} \\mathbf{r} + \\cos^{2}{\\left(\\mathbf{\\theta} \\right)} \\mathbf{r}\\right) \\mathbf{r}}{\\sqrt{\\sin^{2}{\\left(\\mathbf{\\theta} \\right)} \\sin^{2}{\\left(\\mathbf{\\phi} \\right)} \\mathbf{r}^{2} + \\sin^{2}{\\left(\\mathbf{\\theta} \\right)} \\cos^{2}{\\left(\\mathbf{\\phi} \\right)} \\mathbf{r}^{2} + \\cos^{2}{\\left(\\mathbf{\\theta} \\right)} \\mathbf{r}^{2}}}$"
          },
          "metadata": {},
          "execution_count": 8
        }
      ]
    },
    {
      "cell_type": "markdown",
      "source": [
        "##Gradient & Laplacian"
      ],
      "metadata": {
        "id": "JwrSUqCj31Dw"
      }
    },
    {
      "cell_type": "markdown",
      "source": [
        "Next, we define a function that returns the **gradient vector field** of a scalar field *s_field*. It first computes the contravariant components *tmp*, then the vector field is easily obtained by list comprehension.\n",
        "\n",
        "**Note:** The CoordSystem *sys* and the inverse metric tensor *g_inv* have to be provided by the caller!"
      ],
      "metadata": {
        "id": "iK0U6wtT8LSp"
      }
    },
    {
      "cell_type": "code",
      "source": [
        "from sympy.diffgeom import Differential\n",
        "func = Function('f')(*S0.base_scalars())\n",
        "\n",
        "def grad_of_field(s_field, sys, g_inv):\n",
        "  tmp = g_inv * Matrix([(Differential(s_field)(e)) for e in sys.base_vectors()])\n",
        "  return sum([tmp[i]*sys.base_vector(i) for i in range(sys.dim)])\n",
        "\n",
        "gradient = grad_of_field(func, S0, G_inv)\n",
        "displayLeibniz(gradient, func, S0)\n",
        "gradient"
      ],
      "metadata": {
        "id": "12FDazIMGbsC",
        "colab": {
          "base_uri": "https://localhost:8080/",
          "height": 129
        },
        "outputId": "0f7c794d-8f35-4695-ff6b-8ba892332acb"
      },
      "execution_count": 21,
      "outputs": [
        {
          "output_type": "display_data",
          "data": {
            "text/plain": [
              "<IPython.core.display.Markdown object>"
            ],
            "text/markdown": "$\\displaystyle  \\frac{\\partial f}{\\partial \\mathbf{r}}\\partial_{r}+\\frac{1}{\\mathbf{r}^{2}}\\frac{\\partial f}{\\partial \\mathbf{\\theta}}\\partial_{\\theta}+\\frac{1}{\\sin^{2}{\\left(\\mathbf{\\theta} \\right)} \\mathbf{r}^{2}}\\frac{\\partial f}{\\partial \\mathbf{\\phi}}\\partial_{\\phi}$"
          },
          "metadata": {}
        },
        {
          "output_type": "execute_result",
          "data": {
            "text/plain": [
              "Subs(Derivative(f(_xi, theta, phi), _xi), _xi, r)*e_r + Subs(Derivative(f(r, _xi, phi), _xi), _xi, theta)*e_theta/r**2 + Subs(Derivative(f(r, theta, _xi), _xi), _xi, phi)*e_phi/(sin(theta)**2*r**2)"
            ],
            "text/latex": "$\\displaystyle \\left. \\frac{d}{d \\xi} f{\\left(\\xi,\\mathbf{\\theta},\\mathbf{\\phi} \\right)} \\right|_{\\substack{ \\xi=\\mathbf{r} }} \\partial_{r} + \\frac{\\left. \\frac{d}{d \\xi} f{\\left(\\mathbf{r},\\xi,\\mathbf{\\phi} \\right)} \\right|_{\\substack{ \\xi=\\mathbf{\\theta} }} \\partial_{\\theta}}{\\mathbf{r}^{2}} + \\frac{\\left. \\frac{d}{d \\xi} f{\\left(\\mathbf{r},\\mathbf{\\theta},\\xi \\right)} \\right|_{\\substack{ \\xi=\\mathbf{\\phi} }} \\partial_{\\phi}}{\\sin^{2}{\\left(\\mathbf{\\theta} \\right)} \\mathbf{r}^{2}}$"
          },
          "metadata": {},
          "execution_count": 21
        }
      ]
    },
    {
      "cell_type": "code",
      "source": [
        "def div_of_field(v_field, sys, g_sqrt):\n",
        "  tmp = g_sqrt * Matrix([dx(v_field) for dx in sys.base_oneforms()])\n",
        "  return sum([simplifications.get(CoordSystemType,simplify)(Differential(tmp[i])(sys.base_vector(i))/g_sqrt)\n",
        "              for i in range(sys.dim)])\n",
        "\n",
        "laplace = powers.get(CoordSystemType,simplify)(div_of_field(gradient, S0, G_sqrt)) # .expand().trigsimp()\n",
        "displayLeibniz(laplace,func,S0)\n",
        "laplace"
      ],
      "metadata": {
        "id": "ruv9bxikN-47",
        "colab": {
          "base_uri": "https://localhost:8080/",
          "height": 131
        },
        "outputId": "6cad5d5e-c715-431f-aa47-3d5642ac36d8"
      },
      "execution_count": 22,
      "outputs": [
        {
          "output_type": "display_data",
          "data": {
            "text/plain": [
              "<IPython.core.display.Markdown object>"
            ],
            "text/markdown": "$\\displaystyle \\frac{1}{\\mathbf{r}^{2}}\\frac{\\partial^{2} f}{\\partial \\mathbf{\\theta}^{2}}+\\frac{2 }{\\mathbf{r}}\\frac{\\partial f}{\\partial \\mathbf{r}}+\\frac{1}{\\sin^{2}{\\left(\\mathbf{\\theta} \\right)} \\mathbf{r}^{2}}\\frac{\\partial^{2} f}{\\partial \\mathbf{\\phi}^{2}}+\\frac{\\cos{\\left(\\mathbf{\\theta} \\right)} }{\\sin{\\left(\\mathbf{\\theta} \\right)} \\mathbf{r}^{2}}\\frac{\\partial f}{\\partial \\mathbf{\\theta}}+\\frac{\\partial^{2} f}{\\partial \\mathbf{r}^{2}}$"
          },
          "metadata": {}
        },
        {
          "output_type": "execute_result",
          "data": {
            "text/plain": [
              "Subs(Derivative(f(_xi, theta, phi), (_xi, 2)), _xi, r) + 2*Subs(Derivative(f(_xi, theta, phi), _xi), _xi, r)/r + Subs(Derivative(f(r, _xi, phi), (_xi, 2)), _xi, theta)/r**2 + cos(theta)*Subs(Derivative(f(r, _xi, phi), _xi), _xi, theta)/(sin(theta)*r**2) + Subs(Derivative(f(r, theta, _xi), (_xi, 2)), _xi, phi)/(sin(theta)**2*r**2)"
            ],
            "text/latex": "$\\displaystyle \\left. \\frac{d^{2}}{d \\xi^{2}} f{\\left(\\xi,\\mathbf{\\theta},\\mathbf{\\phi} \\right)} \\right|_{\\substack{ \\xi=\\mathbf{r} }} + \\frac{2 \\left. \\frac{d}{d \\xi} f{\\left(\\xi,\\mathbf{\\theta},\\mathbf{\\phi} \\right)} \\right|_{\\substack{ \\xi=\\mathbf{r} }}}{\\mathbf{r}} + \\frac{\\left. \\frac{d^{2}}{d \\xi^{2}} f{\\left(\\mathbf{r},\\xi,\\mathbf{\\phi} \\right)} \\right|_{\\substack{ \\xi=\\mathbf{\\theta} }}}{\\mathbf{r}^{2}} + \\frac{\\cos{\\left(\\mathbf{\\theta} \\right)} \\left. \\frac{d}{d \\xi} f{\\left(\\mathbf{r},\\xi,\\mathbf{\\phi} \\right)} \\right|_{\\substack{ \\xi=\\mathbf{\\theta} }}}{\\sin{\\left(\\mathbf{\\theta} \\right)} \\mathbf{r}^{2}} + \\frac{\\left. \\frac{d^{2}}{d \\xi^{2}} f{\\left(\\mathbf{r},\\mathbf{\\theta},\\xi \\right)} \\right|_{\\substack{ \\xi=\\mathbf{\\phi} }}}{\\sin^{2}{\\left(\\mathbf{\\theta} \\right)} \\mathbf{r}^{2}}$"
          },
          "metadata": {},
          "execution_count": 22
        }
      ]
    },
    {
      "cell_type": "markdown",
      "source": [
        "##Curvature"
      ],
      "metadata": {
        "id": "w48NO_Rf4Qvt"
      }
    },
    {
      "cell_type": "code",
      "source": [
        "from sympy.diffgeom import metric_to_Christoffel_2nd\n",
        "metric_to_Christoffel_2nd(metric_Tensor)"
      ],
      "metadata": {
        "colab": {
          "base_uri": "https://localhost:8080/",
          "height": 335
        },
        "id": "oMde9IwXJQBa",
        "outputId": "ed24cca5-9e30-4900-962f-578728d56527"
      },
      "execution_count": 23,
      "outputs": [
        {
          "output_type": "error",
          "ename": "ValueError",
          "evalue": "The input expression concerns more than one coordinate systems, hence there is no unambiguous way to choose a coordinate system for the matrix.",
          "traceback": [
            "\u001b[0;31m---------------------------------------------------------------------------\u001b[0m",
            "\u001b[0;31mValueError\u001b[0m                                Traceback (most recent call last)",
            "\u001b[0;32m<ipython-input-23-d0c669f1a478>\u001b[0m in \u001b[0;36m<cell line: 2>\u001b[0;34m()\u001b[0m\n\u001b[1;32m      1\u001b[0m \u001b[0;32mfrom\u001b[0m \u001b[0msympy\u001b[0m\u001b[0;34m.\u001b[0m\u001b[0mdiffgeom\u001b[0m \u001b[0;32mimport\u001b[0m \u001b[0mmetric_to_Christoffel_2nd\u001b[0m\u001b[0;34m\u001b[0m\u001b[0;34m\u001b[0m\u001b[0m\n\u001b[0;32m----> 2\u001b[0;31m \u001b[0mmetric_to_Christoffel_2nd\u001b[0m\u001b[0;34m(\u001b[0m\u001b[0mmetric_Tensor\u001b[0m\u001b[0;34m)\u001b[0m\u001b[0;34m\u001b[0m\u001b[0;34m\u001b[0m\u001b[0m\n\u001b[0m",
            "\u001b[0;32m/usr/local/lib/python3.10/dist-packages/sympy/diffgeom/diffgeom.py\u001b[0m in \u001b[0;36mmetric_to_Christoffel_2nd\u001b[0;34m(expr)\u001b[0m\n\u001b[1;32m   2120\u001b[0m \u001b[0;34m\u001b[0m\u001b[0m\n\u001b[1;32m   2121\u001b[0m     \"\"\"\n\u001b[0;32m-> 2122\u001b[0;31m     \u001b[0mch_1st\u001b[0m \u001b[0;34m=\u001b[0m \u001b[0mmetric_to_Christoffel_1st\u001b[0m\u001b[0;34m(\u001b[0m\u001b[0mexpr\u001b[0m\u001b[0;34m)\u001b[0m\u001b[0;34m\u001b[0m\u001b[0;34m\u001b[0m\u001b[0m\n\u001b[0m\u001b[1;32m   2123\u001b[0m     \u001b[0mcoord_sys\u001b[0m \u001b[0;34m=\u001b[0m \u001b[0m_find_coords\u001b[0m\u001b[0;34m(\u001b[0m\u001b[0mexpr\u001b[0m\u001b[0;34m)\u001b[0m\u001b[0;34m.\u001b[0m\u001b[0mpop\u001b[0m\u001b[0;34m(\u001b[0m\u001b[0;34m)\u001b[0m\u001b[0;34m\u001b[0m\u001b[0;34m\u001b[0m\u001b[0m\n\u001b[1;32m   2124\u001b[0m     \u001b[0mindices\u001b[0m \u001b[0;34m=\u001b[0m \u001b[0mlist\u001b[0m\u001b[0;34m(\u001b[0m\u001b[0mrange\u001b[0m\u001b[0;34m(\u001b[0m\u001b[0mcoord_sys\u001b[0m\u001b[0;34m.\u001b[0m\u001b[0mdim\u001b[0m\u001b[0;34m)\u001b[0m\u001b[0;34m)\u001b[0m\u001b[0;34m\u001b[0m\u001b[0;34m\u001b[0m\u001b[0m\n",
            "\u001b[0;32m/usr/local/lib/python3.10/dist-packages/sympy/diffgeom/diffgeom.py\u001b[0m in \u001b[0;36mmetric_to_Christoffel_1st\u001b[0;34m(expr)\u001b[0m\n\u001b[1;32m   2088\u001b[0m \u001b[0;34m\u001b[0m\u001b[0m\n\u001b[1;32m   2089\u001b[0m     \"\"\"\n\u001b[0;32m-> 2090\u001b[0;31m     \u001b[0mmatrix\u001b[0m \u001b[0;34m=\u001b[0m \u001b[0mtwoform_to_matrix\u001b[0m\u001b[0;34m(\u001b[0m\u001b[0mexpr\u001b[0m\u001b[0;34m)\u001b[0m\u001b[0;34m\u001b[0m\u001b[0;34m\u001b[0m\u001b[0m\n\u001b[0m\u001b[1;32m   2091\u001b[0m     \u001b[0;32mif\u001b[0m \u001b[0;32mnot\u001b[0m \u001b[0mmatrix\u001b[0m\u001b[0;34m.\u001b[0m\u001b[0mis_symmetric\u001b[0m\u001b[0;34m(\u001b[0m\u001b[0;34m)\u001b[0m\u001b[0;34m:\u001b[0m\u001b[0;34m\u001b[0m\u001b[0;34m\u001b[0m\u001b[0m\n\u001b[1;32m   2092\u001b[0m         raise ValueError(\n",
            "\u001b[0;32m/usr/local/lib/python3.10/dist-packages/sympy/diffgeom/diffgeom.py\u001b[0m in \u001b[0;36mtwoform_to_matrix\u001b[0;34m(expr)\u001b[0m\n\u001b[1;32m   2059\u001b[0m     \u001b[0mcoord_sys\u001b[0m \u001b[0;34m=\u001b[0m \u001b[0m_find_coords\u001b[0m\u001b[0;34m(\u001b[0m\u001b[0mexpr\u001b[0m\u001b[0;34m)\u001b[0m\u001b[0;34m\u001b[0m\u001b[0;34m\u001b[0m\u001b[0m\n\u001b[1;32m   2060\u001b[0m     \u001b[0;32mif\u001b[0m \u001b[0mlen\u001b[0m\u001b[0;34m(\u001b[0m\u001b[0mcoord_sys\u001b[0m\u001b[0;34m)\u001b[0m \u001b[0;34m!=\u001b[0m \u001b[0;36m1\u001b[0m\u001b[0;34m:\u001b[0m\u001b[0;34m\u001b[0m\u001b[0;34m\u001b[0m\u001b[0m\n\u001b[0;32m-> 2061\u001b[0;31m         raise ValueError('The input expression concerns more than one '\n\u001b[0m\u001b[1;32m   2062\u001b[0m                          \u001b[0;34m'coordinate systems, hence there is no unambiguous '\u001b[0m\u001b[0;34m\u001b[0m\u001b[0;34m\u001b[0m\u001b[0m\n\u001b[1;32m   2063\u001b[0m                          'way to choose a coordinate system for the matrix.')\n",
            "\u001b[0;31mValueError\u001b[0m: The input expression concerns more than one coordinate systems, hence there is no unambiguous way to choose a coordinate system for the matrix."
          ]
        }
      ]
    }
  ]
}