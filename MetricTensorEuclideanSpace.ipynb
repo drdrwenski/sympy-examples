{
  "nbformat": 4,
  "nbformat_minor": 0,
  "metadata": {
    "colab": {
      "provenance": [],
      "include_colab_link": true
    },
    "kernelspec": {
      "name": "python3",
      "display_name": "Python 3"
    },
    "language_info": {
      "name": "python"
    }
  },
  "cells": [
    {
      "cell_type": "markdown",
      "metadata": {
        "id": "view-in-github",
        "colab_type": "text"
      },
      "source": [
        "<a href=\"https://colab.research.google.com/github/drdrwenski/sympy-examples/blob/main/MetricTensorEuclideanSpace.ipynb\" target=\"_parent\"><img src=\"https://colab.research.google.com/assets/colab-badge.svg\" alt=\"Open In Colab\"/></a>"
      ]
    },
    {
      "cell_type": "markdown",
      "source": [
        "# Metric Tensor in Euclidean Space"
      ],
      "metadata": {
        "id": "K615gbJ-7uPu"
      }
    },
    {
      "cell_type": "markdown",
      "source": [
        "The metric tensor is a fundamental concept in the field of differential geometry. It is a mathematical object that encodes the intrinsic geometry of a space, allowing us to measure distances, angles, and volumes within that space.\n",
        "At its core, the metric tensor is a second-rank tensor that describes the local curvature and distance relationships in a given coordinate system. It is a symmetric, positive-definite matrix that transforms covariantly under changes of the coordinate system. This means that the metric tensor contains all the information needed to perform measurements and calculations within the space, regardless of how the coordinates are defined."
      ],
      "metadata": {
        "id": "QCUm9XbG6x7Y"
      }
    },
    {
      "cell_type": "markdown",
      "source": [
        "##Preliminaries"
      ],
      "metadata": {
        "id": "ZoPDchEb-XYT"
      }
    },
    {
      "cell_type": "markdown",
      "source": [
        "First, upgrade to the latest version of SymPy if necessary. This should be at least **v1.10**."
      ],
      "metadata": {
        "id": "JignJRQFMOKk"
      }
    },
    {
      "cell_type": "code",
      "source": [
        "%%capture\n",
        "%pip install --upgrade sympy"
      ],
      "metadata": {
        "id": "J1qIZeGtyZ4J"
      },
      "execution_count": 2,
      "outputs": []
    },
    {
      "cell_type": "markdown",
      "source": [
        "Next, we define some output helper functions, providing shorthand notations for derivatives in curvilinear coordinates (still not working perfectly well)."
      ],
      "metadata": {
        "id": "qfXCnkD4cO7c"
      }
    },
    {
      "cell_type": "code",
      "source": [
        "#@title Output Helper Functions\n",
        "from IPython.display import display, Markdown\n",
        "from sympy import latex\n",
        "\n",
        "def displayLatex(expr, **kwargs):\n",
        "  intro = kwargs.get('intro', '')\n",
        "  output = rf'$\\displaystyle {intro} {latex(expr)}$'\n",
        "  display(Markdown(output))\n",
        "\n",
        "def displayLeibniz(expr,func,sys):\n",
        "  leibnizComplete = ''\n",
        "  for term in expr.args:\n",
        "    leibniz = latex(term)\n",
        "    # find second derivatives\n",
        "    for i,j in zip(range(sys.dim),range(sys.dim)):\n",
        "      coordStr0 = latex(sys.base_scalar(i))\n",
        "      coordStr1 = latex(sys.base_scalar(j))\n",
        "      # original notation\n",
        "      replStr = latex(Differential(Differential(func)(sys.base_vector(i)))(sys.base_vector(j)))\n",
        "      # shorthand notation\n",
        "      if i == j:\n",
        "        subsStr = rf'\\frac{{\\partial^{{2}} {func.name}}}{{\\partial {coordStr0}^{{2}}}}'\n",
        "      else:\n",
        "        subsStr = rf'\\frac{{\\partial^{{2}} {func.name}}}{{\\partial {coordStr1} \\partial {coordStr0}}}'\n",
        "      if leibniz.find(replStr) >= 0:\n",
        "        leibniz = leibniz.replace(replStr,'')\n",
        "        leibniz = leibniz + subsStr\n",
        "    # find first derivatives\n",
        "    for i in range(sys.dim):\n",
        "      coordStr = latex(sys.base_scalar(i))\n",
        "      baseStr = latex(sys.base_vector(i))\n",
        "      # original notation\n",
        "      replStr = latex(Differential(func)(sys.base_vector(i)))\n",
        "      # shorthand notation\n",
        "      subsStr = rf'\\frac{{\\partial {func.name}}}{{\\partial {coordStr}}}'\n",
        "      if leibniz.find(replStr) >= 0:\n",
        "        leibniz = leibniz.replace(replStr,'')\n",
        "        leibniz = leibniz + subsStr\n",
        "      # rearrange terms\n",
        "      if leibniz.find(baseStr) >= 0:\n",
        "        leibniz = leibniz.replace(baseStr,'')\n",
        "        leibniz = leibniz + baseStr\n",
        "    # rebuild sum of derivatives\n",
        "    if len(leibnizComplete) == 0:\n",
        "      leibnizComplete = leibniz\n",
        "    else:\n",
        "      leibnizComplete = leibnizComplete + '+' + leibniz\n",
        "  leibnizComplete = leibnizComplete.replace(rf'\\frac{{ }}',rf'\\frac{{1}}')\n",
        "  leibnizComplete = leibnizComplete.replace(rf'\\frac{{}}',rf'\\frac{{1}}')\n",
        "  display(Markdown(rf'$\\displaystyle {leibnizComplete}$'))"
      ],
      "metadata": {
        "id": "2lHf23A3b942",
        "cellView": "form"
      },
      "execution_count": 3,
      "outputs": []
    },
    {
      "cell_type": "markdown",
      "source": [
        "##Curvilinear Coordinates"
      ],
      "metadata": {
        "id": "L20g0tLz2_LF"
      }
    },
    {
      "cell_type": "markdown",
      "source": [
        "Spherical & cylindrical 3D coordinates are introduced utilizing the vector module. The Cartesian coordinate system serves as the parent instance for all other types of coordinate systems since we are considering Euclidean space. Coordinate transformations are then stored as symbolic expressions in a Python dictionary *relations*.\n",
        "Additional dictionaries provide simplification methods tailored to each coordinate system, enhancing computational efficiency and readability of results."
      ],
      "metadata": {
        "id": "pDzh6MpHMdr1"
      }
    },
    {
      "cell_type": "code",
      "source": [
        "from sympy.vector import CoordSys3D\n",
        "Cart = CoordSys3D('Cart')\n",
        "Spher = Cart.create_new('Spher', transformation='spherical')\n",
        "Cyl = Cart.create_new('Cyl', transformation='cylindrical')\n",
        "\n",
        "# Since there is no built-in transformation_to_parent_function() yet,\n",
        "# we apply the following workaround.\n",
        "def transformation_to_parent_function(child, scalars):\n",
        "  sc = (scalars, child.base_scalars())\n",
        "  abbrev = [(sc[1][i],sc[0][i]) for i in range(3)]\n",
        "  return tuple(expr.subs(abbrev) for expr in child.transformation_to_parent())\n",
        "\n",
        "from sympy import symbols, Function, Lambda\n",
        "from sympy import sqrt\n",
        "x, y, z = symbols('x y z', real=True)\n",
        "r, theta, phi = symbols('r theta phi', nonnegative=True)\n",
        "\n",
        "# Python dictionary of coordinate transformations\n",
        "relations = {\n",
        "        ('Cartesian','Spherical'):\n",
        "            Lambda((x,y,z), Spher.transformation_from_parent_function()(x,y,z)),\n",
        "        ('Spherical','Cartesian'):\n",
        "            Lambda((r,theta,phi), transformation_to_parent_function(Spher, (r,theta,phi))),\n",
        "        ('Cartesian','Cylindrical'):\n",
        "            Lambda((x,y,z), Cyl.transformation_from_parent_function()(x,y,z)),\n",
        "        ('Cylindrical','Cartesian'):\n",
        "            Lambda((r,theta,z), transformation_to_parent_function(Cyl, (r,theta,z)))\n",
        "}\n",
        "\n",
        "# Python dictionaries of simplification strategies\n",
        "from sympy import simplify, expand, factor, cancel\n",
        "from sympy import expand_power_base, powdenest\n",
        "from sympy.simplify.fu import fu, TR6\n",
        "from functools import reduce\n",
        "from operator import mul\n",
        "\n",
        "simplifications = {\n",
        "    'Spherical': (lambda elem: expand(TR6(factor(TR6(elem))))),\n",
        "    'Cylindrical': (lambda elem: expand(TR6(factor(elem))))\n",
        "}\n",
        "\n",
        "powers = {\n",
        "    'Spherical': (lambda elem: powdenest(expand_power_base(elem, force=True), force=True)),\n",
        "    'Cylindrical': (lambda elem: powdenest(elem, force=True))\n",
        "}"
      ],
      "metadata": {
        "id": "JQo3XW0JGdZC"
      },
      "execution_count": 4,
      "outputs": []
    },
    {
      "cell_type": "markdown",
      "source": [
        "We also provide a coordinate transformation from an ellipsoidal coordinate system to a Cartesian coordinate system."
      ],
      "metadata": {
        "id": "sSol0uROnT0I"
      }
    },
    {
      "cell_type": "code",
      "source": [
        "# Check assumptions:\n",
        "xi, eta, zeta = symbols('xi eta zeta', real=True)\n",
        "a, b, c = symbols('a b c', nonnegative=True)\n",
        "\n",
        "exprs = tuple(\n",
        "    sqrt(reduce(mul, [(coord**2+ellips) for ellips in (xi,eta,zeta)])/\n",
        "         reduce(mul, [(cart**2-coord**2) for cart in (a,b,c) if cart != coord]))\n",
        "    for coord in (a,b,c)\n",
        ")\n",
        "\n",
        "relations[('Ellipsoidal','Cartesian')] = Lambda((xi,eta,zeta), exprs)\n",
        "simplifications['Ellipsoidal'] = (lambda elem: factor(cancel(elem)))\n",
        "powers['Ellipsoidal'] = (lambda elem: elem)\n",
        "\n",
        "displayLatex(exprs[0])"
      ],
      "metadata": {
        "id": "wqCahiPaRhHJ",
        "colab": {
          "base_uri": "https://localhost:8080/",
          "height": 80
        },
        "outputId": "594831f7-04e7-47e4-e42f-b33097fb119c"
      },
      "execution_count": null,
      "outputs": [
        {
          "output_type": "display_data",
          "data": {
            "text/plain": [
              "<IPython.core.display.Markdown object>"
            ],
            "text/markdown": "$\\displaystyle  \\sqrt{\\frac{\\left(a^{2} + \\eta\\right) \\left(a^{2} + \\xi\\right) \\left(a^{2} + \\zeta\\right)}{\\left(- a^{2} + b^{2}\\right) \\left(- a^{2} + c^{2}\\right)}}$"
          },
          "metadata": {}
        }
      ]
    },
    {
      "cell_type": "markdown",
      "source": [
        "We also provide a coordinate transformation from a prolate spheroidal coordinate system to a Cartesian coordinate system."
      ],
      "metadata": {
        "id": "J-PSAgG6lsKq"
      }
    },
    {
      "cell_type": "code",
      "source": [
        "from sympy import sin, cos, sinh, cosh\n",
        "from sympy import Wild\n",
        "# Check assumptions:\n",
        "mu, nu, phi = symbols('mu nu phi', nonnegative=True)\n",
        "a = symbols('a', nonnegative=True)\n",
        "\n",
        "exprs = (\n",
        "    a*sinh(mu)*sin(nu)*cos(phi),\n",
        "    a*sinh(mu)*sin(nu)*sin(phi),\n",
        "    a*cosh(mu)*cos(nu),\n",
        ")\n",
        "\n",
        "def replace_cosh2(expr):\n",
        "  u = Wild('u')\n",
        "  return expr.replace(cosh(u)**2, 1+sinh(u)**2)\n",
        "\n",
        "relations[('ProlateSpheroidal','Cartesian')] = Lambda((mu,nu,phi), exprs)\n",
        "simplifications['ProlateSpheroidal'] = (lambda elem: factor(expand(replace_cosh2(TR6(elem)))))\n",
        "powers['ProlateSpheroidal'] = (lambda elem: elem)\n",
        "\n",
        "displayLatex(exprs, intro = '(x,y,z) = ')"
      ],
      "metadata": {
        "colab": {
          "base_uri": "https://localhost:8080/",
          "height": 51
        },
        "outputId": "89bdff67-2ca8-47fc-a700-ecb0d5cbe1c3",
        "id": "poTrVPi5llLc"
      },
      "execution_count": 6,
      "outputs": [
        {
          "output_type": "display_data",
          "data": {
            "text/plain": [
              "<IPython.core.display.Markdown object>"
            ],
            "text/markdown": "$\\displaystyle (x,y,z) =  \\left( a \\sin{\\left(\\nu \\right)} \\cos{\\left(\\phi \\right)} \\sinh{\\left(\\mu \\right)}, \\  a \\sin{\\left(\\nu \\right)} \\sin{\\left(\\phi \\right)} \\sinh{\\left(\\mu \\right)}, \\  a \\cos{\\left(\\nu \\right)} \\cosh{\\left(\\mu \\right)}\\right)$"
          },
          "metadata": {}
        }
      ]
    },
    {
      "cell_type": "markdown",
      "source": [
        "##Metric Tensor"
      ],
      "metadata": {
        "id": "ncHiZ_yT3aOh"
      }
    },
    {
      "cell_type": "markdown",
      "source": [
        "We set up a 3-dimensional manifold, define a patch on that manifold, and create two coordinate systems on that patch: one Cartesian and one of a user-chosen type ('Spherical', 'Cylindrical' or 'ProlateSpheroidal')."
      ],
      "metadata": {
        "id": "kmDlYDSeM5EJ"
      }
    },
    {
      "cell_type": "code",
      "source": [
        "from sympy.diffgeom import Manifold, Patch, CoordSystem, Point\n",
        "M = Manifold('M', 3)\n",
        "P = Patch('P', M)\n",
        "\n",
        "# Try any of 'Spherical', 'Cylindrical', 'ProlateSpheroidal'\n",
        "CoordSystemType = 'ProlateSpheroidal'\n",
        "CoordSystemSymbols = relations.get((CoordSystemType,'Cartesian')).args[0]\n",
        "CoordRelation = dict({\n",
        "    (CoordSystemType,'Cartesian'): relations.get((CoordSystemType,'Cartesian'))\n",
        "})\n",
        "\n",
        "R3 = CoordSystem('Cartesian', P, (x,y,z), CoordRelation)\n",
        "S0 = CoordSystem(CoordSystemType, P, CoordSystemSymbols, CoordRelation)\n",
        "nrange = range(S0.dim)\n",
        "\n",
        "# point = Point(S0, (1,1,1))\n",
        "# displayLatex(point.coords(R3))"
      ],
      "metadata": {
        "id": "ngZRWFLKr2pY"
      },
      "execution_count": 9,
      "outputs": []
    },
    {
      "cell_type": "markdown",
      "source": [
        "In applications the metric tensor is usually displayed either as a quadratic form $\\ ds^2$ or as a matrix $\\ (g_{ij})$."
      ],
      "metadata": {
        "id": "60OxGzdAvXx7"
      }
    },
    {
      "cell_type": "code",
      "execution_count": 10,
      "metadata": {
        "id": "AjWyxeJtEEca",
        "colab": {
          "base_uri": "https://localhost:8080/",
          "height": 308
        },
        "outputId": "f460b2da-f269-46c5-92e5-df338a1acb5a"
      },
      "outputs": [
        {
          "output_type": "display_data",
          "data": {
            "text/plain": [
              "<IPython.core.display.Markdown object>"
            ],
            "text/markdown": "$\\displaystyle ds^2 = a^{2} \\left(\\sin^{2}{\\left(\\mathbf{\\nu} \\right)} + \\sinh^{2}{\\left(\\mathbf{\\mu} \\right)}\\right) \\operatorname{d}\\mu \\otimes \\operatorname{d}\\mu + a^{2} \\left(\\sin^{2}{\\left(\\mathbf{\\nu} \\right)} + \\sinh^{2}{\\left(\\mathbf{\\mu} \\right)}\\right) \\operatorname{d}\\nu \\otimes \\operatorname{d}\\nu + a^{2} \\sin^{2}{\\left(\\mathbf{\\nu} \\right)} \\sinh^{2}{\\left(\\mathbf{\\mu} \\right)} \\operatorname{d}\\phi \\otimes \\operatorname{d}\\phi$"
          },
          "metadata": {}
        },
        {
          "output_type": "stream",
          "name": "stdout",
          "text": [
            "\n"
          ]
        },
        {
          "output_type": "display_data",
          "data": {
            "text/plain": [
              "<IPython.core.display.Markdown object>"
            ],
            "text/markdown": "$\\displaystyle (g_{ij}) =  \\left[\\begin{matrix}a^{2} \\left(\\sin^{2}{\\left(\\mathbf{\\nu} \\right)} + \\sinh^{2}{\\left(\\mathbf{\\mu} \\right)}\\right) & 0 & 0\\\\0 & a^{2} \\left(\\sin^{2}{\\left(\\mathbf{\\nu} \\right)} + \\sinh^{2}{\\left(\\mathbf{\\mu} \\right)}\\right) & 0\\\\0 & 0 & a^{2} \\sin^{2}{\\left(\\mathbf{\\nu} \\right)} \\sinh^{2}{\\left(\\mathbf{\\mu} \\right)}\\end{matrix}\\right]$"
          },
          "metadata": {}
        },
        {
          "output_type": "stream",
          "name": "stdout",
          "text": [
            "\n"
          ]
        },
        {
          "output_type": "display_data",
          "data": {
            "text/plain": [
              "<IPython.core.display.Markdown object>"
            ],
            "text/markdown": "$\\displaystyle (g^{ij}) =  \\left[\\begin{matrix}\\frac{1}{a^{2} \\left(\\sin^{2}{\\left(\\mathbf{\\nu} \\right)} + \\sinh^{2}{\\left(\\mathbf{\\mu} \\right)}\\right)} & 0 & 0\\\\0 & \\frac{1}{a^{2} \\left(\\sin^{2}{\\left(\\mathbf{\\nu} \\right)} + \\sinh^{2}{\\left(\\mathbf{\\mu} \\right)}\\right)} & 0\\\\0 & 0 & \\frac{1}{a^{2} \\sin^{2}{\\left(\\mathbf{\\nu} \\right)} \\sinh^{2}{\\left(\\mathbf{\\mu} \\right)}}\\end{matrix}\\right]$"
          },
          "metadata": {}
        },
        {
          "output_type": "stream",
          "name": "stdout",
          "text": [
            "\n"
          ]
        },
        {
          "output_type": "display_data",
          "data": {
            "text/plain": [
              "<IPython.core.display.Markdown object>"
            ],
            "text/markdown": "$\\displaystyle \\det (g_{ij}) =  a^{3} \\sqrt{\\left(\\sin^{2}{\\left(\\mathbf{\\nu} \\right)} + \\sinh^{2}{\\left(\\mathbf{\\mu} \\right)}\\right)^{2} \\sin^{2}{\\left(\\mathbf{\\nu} \\right)} \\sinh^{2}{\\left(\\mathbf{\\mu} \\right)}}$"
          },
          "metadata": {}
        }
      ],
      "source": [
        "from sympy.matrices import Matrix, diag\n",
        "from sympy.diffgeom import TensorProduct\n",
        "\n",
        "Jacob = S0.jacobian(R3, S0.base_scalars())\n",
        "G_metric = Jacob.T * Jacob\n",
        "G_metric = G_metric.as_mutable().applyfunc(simplifications.get(CoordSystemType,simplify)).as_immutable()\n",
        "\n",
        "if G_metric.is_diagonal():\n",
        "  diagonal = [G_metric[i,i] for i in nrange]\n",
        "  G_inv = diag(*[1/d for d in diagonal])\n",
        "  G_sqrt = sqrt(reduce(mul,diagonal))\n",
        "  G_sqrt = powers.get(CoordSystemType,simplify)(G_sqrt)\n",
        "else:\n",
        "  G_inv = G_metric.inv()\n",
        "  G_sqrt = Jacob.det()\n",
        "\n",
        "metric_Tensor = sum([ G_metric[i,j] * TensorProduct(S0.base_oneform(i), S0.base_oneform(j))\n",
        "                      for (i,j) in zip(nrange,nrange) ])\n",
        "\n",
        "displayLatex(metric_Tensor, intro = 'ds^2 =')\n",
        "print()\n",
        "displayLatex(G_metric, intro = '(g_{ij}) = ')\n",
        "print()\n",
        "displayLatex(G_inv, intro = '(g^{ij}) = ')\n",
        "print()\n",
        "displayLatex(G_sqrt, intro = r'\\det (g_{ij}) = ')"
      ]
    },
    {
      "cell_type": "markdown",
      "source": [
        "##Gradient & Laplacian"
      ],
      "metadata": {
        "id": "JwrSUqCj31Dw"
      }
    },
    {
      "cell_type": "markdown",
      "source": [
        "Next, we define a function that returns the **gradient vector field** of a scalar field *s_field*. It first computes the contravariant components *tmp*, then the vector field is easily obtained by list comprehension.\n",
        "\n",
        "**Note:** The CoordSystem *sys* and the inverse metric tensor *g_inv* have to be provided by the caller!"
      ],
      "metadata": {
        "id": "iK0U6wtT8LSp"
      }
    },
    {
      "cell_type": "code",
      "source": [
        "from sympy.diffgeom import Differential\n",
        "func = Function('f')(*S0.base_scalars())\n",
        "\n",
        "def grad_of_field(s_field, sys, g_inv):\n",
        "  tmp = g_inv * Matrix([(Differential(s_field)(e)) for e in sys.base_vectors()])\n",
        "  return sum([tmp[i]*sys.base_vector(i) for i in range(sys.dim)])\n",
        "\n",
        "gradient = grad_of_field(func, S0, G_inv)\n",
        "displayLeibniz(gradient, func, S0)\n",
        "#gradient"
      ],
      "metadata": {
        "id": "12FDazIMGbsC",
        "colab": {
          "base_uri": "https://localhost:8080/",
          "height": 71
        },
        "outputId": "b8167c66-1844-4726-f4d4-9f0e3b6dffae"
      },
      "execution_count": 14,
      "outputs": [
        {
          "output_type": "display_data",
          "data": {
            "text/plain": [
              "<IPython.core.display.Markdown object>"
            ],
            "text/markdown": "$\\displaystyle \\frac{1}{a^{2} \\left(\\sin^{2}{\\left(\\mathbf{\\nu} \\right)} + \\sinh^{2}{\\left(\\mathbf{\\mu} \\right)}\\right)}\\frac{\\partial f}{\\partial \\mathbf{\\mu}}\\partial_{\\mu}+\\frac{1}{a^{2} \\left(\\sin^{2}{\\left(\\mathbf{\\nu} \\right)} + \\sinh^{2}{\\left(\\mathbf{\\mu} \\right)}\\right)}\\frac{\\partial f}{\\partial \\mathbf{\\nu}}\\partial_{\\nu}+\\frac{1}{a^{2} \\sin^{2}{\\left(\\mathbf{\\nu} \\right)} \\sinh^{2}{\\left(\\mathbf{\\mu} \\right)}}\\frac{\\partial f}{\\partial \\mathbf{\\phi}}\\partial_{\\phi}$"
          },
          "metadata": {}
        }
      ]
    },
    {
      "cell_type": "code",
      "source": [
        "def div_of_field(v_field, sys, g_sqrt):\n",
        "  tmp = g_sqrt * Matrix([dx(v_field) for dx in sys.base_oneforms()])\n",
        "  return sum([simplifications.get(str(sys.name),simplify)(Differential(tmp[i])(sys.base_vector(i))/g_sqrt)\n",
        "              for i in range(sys.dim)])\n",
        "\n",
        "laplace = powers.get(str(S0.name),simplify)(div_of_field(gradient, S0, G_sqrt)) # .expand().trigsimp()\n",
        "displayLeibniz(laplace.expand(),func,S0)\n",
        "# displayLatex(laplace)"
      ],
      "metadata": {
        "id": "ruv9bxikN-47",
        "colab": {
          "base_uri": "https://localhost:8080/",
          "height": 115
        },
        "outputId": "caf3f89b-b0bb-4fae-aca8-15fe1de034f8"
      },
      "execution_count": 20,
      "outputs": [
        {
          "output_type": "display_data",
          "data": {
            "text/plain": [
              "<IPython.core.display.Markdown object>"
            ],
            "text/markdown": "$\\displaystyle \\frac{\\cos{\\left(\\mathbf{\\nu} \\right)} }{a^{2} \\sin^{3}{\\left(\\mathbf{\\nu} \\right)} + a^{2} \\sin{\\left(\\mathbf{\\nu} \\right)} \\sinh^{2}{\\left(\\mathbf{\\mu} \\right)}}\\frac{\\partial f}{\\partial \\mathbf{\\nu}}+\\frac{\\sin{\\left(\\mathbf{\\nu} \\right)} }{a^{2} \\sin^{3}{\\left(\\mathbf{\\nu} \\right)} + a^{2} \\sin{\\left(\\mathbf{\\nu} \\right)} \\sinh^{2}{\\left(\\mathbf{\\mu} \\right)}}\\frac{\\partial^{2} f}{\\partial \\mathbf{\\nu}^{2}}+\\frac{\\cosh{\\left(\\mathbf{\\mu} \\right)} }{a^{2} \\sin^{2}{\\left(\\mathbf{\\nu} \\right)} \\sinh{\\left(\\mathbf{\\mu} \\right)} + a^{2} \\sinh^{3}{\\left(\\mathbf{\\mu} \\right)}}\\frac{\\partial f}{\\partial \\mathbf{\\mu}}+\\frac{\\sinh{\\left(\\mathbf{\\mu} \\right)} }{a^{2} \\sin^{2}{\\left(\\mathbf{\\nu} \\right)} \\sinh{\\left(\\mathbf{\\mu} \\right)} + a^{2} \\sinh^{3}{\\left(\\mathbf{\\mu} \\right)}}\\frac{\\partial^{2} f}{\\partial \\mathbf{\\mu}^{2}}+\\frac{1}{a^{2} \\sin^{2}{\\left(\\mathbf{\\nu} \\right)} \\sinh^{2}{\\left(\\mathbf{\\mu} \\right)}}\\frac{\\partial^{2} f}{\\partial \\mathbf{\\phi}^{2}}$"
          },
          "metadata": {}
        }
      ]
    },
    {
      "cell_type": "markdown",
      "source": [
        "##Curvature"
      ],
      "metadata": {
        "id": "w48NO_Rf4Qvt"
      }
    },
    {
      "cell_type": "code",
      "source": [
        "import pprint\n",
        "pprint.pp(CoordRelation)"
      ],
      "metadata": {
        "colab": {
          "base_uri": "https://localhost:8080/"
        },
        "id": "1wBV5jNVEAhj",
        "outputId": "861fda5e-9d10-470f-c839-4eb484288395"
      },
      "execution_count": 11,
      "outputs": [
        {
          "output_type": "stream",
          "name": "stdout",
          "text": [
            "{('ProlateSpheroidal', 'Cartesian'): Lambda((mu, nu, phi), (a*sin(nu)*cos(phi)*sinh(mu), a*sin(nu)*sin(phi)*sinh(mu), a*cos(nu)*cosh(mu)))}\n"
          ]
        }
      ]
    },
    {
      "cell_type": "code",
      "source": [
        "from sympy.diffgeom import Differential\n",
        "\n",
        "displayLatex(G_metric[0,0])\n",
        "displayLatex(S0.base_vector(1))\n",
        "\n",
        "# Differential(G_metric[0,0])(S0.base_vector(1))"
      ],
      "metadata": {
        "colab": {
          "base_uri": "https://localhost:8080/",
          "height": 77
        },
        "id": "ygdh2Bq9Per2",
        "outputId": "f231c79c-9599-4831-d424-ae5cc5f218cb"
      },
      "execution_count": 12,
      "outputs": [
        {
          "output_type": "display_data",
          "data": {
            "text/plain": [
              "<IPython.core.display.Markdown object>"
            ],
            "text/markdown": "$\\displaystyle  a^{2} \\left(\\sin^{2}{\\left(\\mathbf{\\nu} \\right)} + \\sinh^{2}{\\left(\\mathbf{\\mu} \\right)}\\right)$"
          },
          "metadata": {}
        },
        {
          "output_type": "display_data",
          "data": {
            "text/plain": [
              "<IPython.core.display.Markdown object>"
            ],
            "text/markdown": "$\\displaystyle  \\partial_{\\nu}$"
          },
          "metadata": {}
        }
      ]
    },
    {
      "cell_type": "code",
      "source": [
        "#@title Computation of Christoffel symbols\n",
        "from sympy.diffgeom import Differential\n",
        "from sympy import Rational\n",
        "\n",
        "diff_metric = [\n",
        "    simplifications.get(S0.name,simplify)(Differential(G_metric)(S0.base_vector(k)))\n",
        "    for k in nrange ]\n",
        "\n",
        "# note the ordering of the parameters m, i, j\n",
        "def christoffel_symbol(m,i,j):\n",
        "  return Rational(1,2)*sum([ G_inv[m,k]*(diff_metric[j][i,k] + diff_metric[i][k,j] - diff_metric[k][i,j]) for k in nrange ])\n",
        "\n",
        "christoffel = []\n",
        "\n",
        "for m in nrange:\n",
        "  upper_triangle = Matrix([\n",
        "      [powers.get(S0.name,simplify)(christoffel_symbol(m,i,j))\n",
        "        if i<=j else 0 for j in nrange]\n",
        "      for i in nrange])\n",
        "  lower_triangle = Matrix([[upper_triangle[j,i] if i>j else 0 for j in nrange] for i in nrange])\n",
        "  christoffel.append(upper_triangle + lower_triangle)\n",
        "\n",
        "displayLatex(christoffel)"
      ],
      "metadata": {
        "colab": {
          "base_uri": "https://localhost:8080/",
          "height": 110
        },
        "outputId": "926b09cb-c4ac-40c5-e3a4-857e50317bd9",
        "collapsed": true,
        "id": "GeQAr58B0YxG"
      },
      "execution_count": 26,
      "outputs": [
        {
          "output_type": "display_data",
          "data": {
            "text/plain": [
              "<IPython.core.display.Markdown object>"
            ],
            "text/markdown": "$\\displaystyle  \\left[ \\left[\\begin{matrix}\\frac{\\sinh{\\left(2 \\mathbf{\\mu} \\right)}}{2 \\left(\\sin^{2}{\\left(\\mathbf{\\nu} \\right)} + \\sinh^{2}{\\left(\\mathbf{\\mu} \\right)}\\right)} & \\frac{\\sin{\\left(2 \\mathbf{\\nu} \\right)}}{2 \\left(\\sin^{2}{\\left(\\mathbf{\\nu} \\right)} + \\sinh^{2}{\\left(\\mathbf{\\mu} \\right)}\\right)} & 0\\\\\\frac{\\sin{\\left(2 \\mathbf{\\nu} \\right)}}{2 \\left(\\sin^{2}{\\left(\\mathbf{\\nu} \\right)} + \\sinh^{2}{\\left(\\mathbf{\\mu} \\right)}\\right)} & - \\frac{\\sinh{\\left(2 \\mathbf{\\mu} \\right)}}{2 \\sin^{2}{\\left(\\mathbf{\\nu} \\right)} + 2 \\sinh^{2}{\\left(\\mathbf{\\mu} \\right)}} & 0\\\\0 & 0 & - \\frac{\\sin^{2}{\\left(\\mathbf{\\nu} \\right)} \\sinh{\\left(2 \\mathbf{\\mu} \\right)}}{2 \\sin^{2}{\\left(\\mathbf{\\nu} \\right)} + 2 \\sinh^{2}{\\left(\\mathbf{\\mu} \\right)}}\\end{matrix}\\right], \\  \\left[\\begin{matrix}- \\frac{\\sin{\\left(2 \\mathbf{\\nu} \\right)}}{2 \\sin^{2}{\\left(\\mathbf{\\nu} \\right)} + 2 \\sinh^{2}{\\left(\\mathbf{\\mu} \\right)}} & \\frac{\\sinh{\\left(2 \\mathbf{\\mu} \\right)}}{2 \\left(\\sin^{2}{\\left(\\mathbf{\\nu} \\right)} + \\sinh^{2}{\\left(\\mathbf{\\mu} \\right)}\\right)} & 0\\\\\\frac{\\sinh{\\left(2 \\mathbf{\\mu} \\right)}}{2 \\left(\\sin^{2}{\\left(\\mathbf{\\nu} \\right)} + \\sinh^{2}{\\left(\\mathbf{\\mu} \\right)}\\right)} & \\frac{\\sin{\\left(2 \\mathbf{\\nu} \\right)}}{2 \\left(\\sin^{2}{\\left(\\mathbf{\\nu} \\right)} + \\sinh^{2}{\\left(\\mathbf{\\mu} \\right)}\\right)} & 0\\\\0 & 0 & - \\frac{\\sin{\\left(2 \\mathbf{\\nu} \\right)} \\sinh^{2}{\\left(\\mathbf{\\mu} \\right)}}{2 \\sin^{2}{\\left(\\mathbf{\\nu} \\right)} + 2 \\sinh^{2}{\\left(\\mathbf{\\mu} \\right)}}\\end{matrix}\\right], \\  \\left[\\begin{matrix}0 & 0 & \\frac{1}{\\tanh{\\left(\\mathbf{\\mu} \\right)}}\\\\0 & 0 & \\frac{1}{\\tan{\\left(\\mathbf{\\nu} \\right)}}\\\\\\frac{1}{\\tanh{\\left(\\mathbf{\\mu} \\right)}} & \\frac{1}{\\tan{\\left(\\mathbf{\\nu} \\right)}} & 0\\end{matrix}\\right]\\right]$"
          },
          "metadata": {}
        }
      ]
    },
    {
      "cell_type": "code",
      "source": [
        "from sympy.diffgeom import metric_to_Christoffel_2nd\n",
        "from sympy import srepr\n",
        "\n",
        "chris = metric_to_Christoffel_2nd(metric_Tensor)\n",
        "displayLatex(chris)\n",
        "print(type(chris))\n",
        "# print(srepr(chris))"
      ],
      "metadata": {
        "colab": {
          "base_uri": "https://localhost:8080/",
          "height": 151
        },
        "id": "oMde9IwXJQBa",
        "outputId": "8e4f956f-c454-4bb7-b339-c01703588aa4"
      },
      "execution_count": 27,
      "outputs": [
        {
          "output_type": "display_data",
          "data": {
            "text/plain": [
              "<IPython.core.display.Markdown object>"
            ],
            "text/markdown": "$\\displaystyle  \\left[\\begin{matrix}\\left[\\begin{matrix}\\frac{a^{2} \\sinh{\\left(\\mathbf{\\mu} \\right)} \\cosh{\\left(\\mathbf{\\mu} \\right)}}{a^{2} \\sin^{2}{\\left(\\mathbf{\\nu} \\right)} + a^{2} \\sinh^{2}{\\left(\\mathbf{\\mu} \\right)}} & \\frac{a^{2} \\sin{\\left(\\mathbf{\\nu} \\right)} \\cos{\\left(\\mathbf{\\nu} \\right)}}{a^{2} \\sin^{2}{\\left(\\mathbf{\\nu} \\right)} + a^{2} \\sinh^{2}{\\left(\\mathbf{\\mu} \\right)}} & 0\\\\\\frac{a^{2} \\sin{\\left(\\mathbf{\\nu} \\right)} \\cos{\\left(\\mathbf{\\nu} \\right)}}{a^{2} \\sin^{2}{\\left(\\mathbf{\\nu} \\right)} + a^{2} \\sinh^{2}{\\left(\\mathbf{\\mu} \\right)}} & - \\frac{a^{2} \\sinh{\\left(\\mathbf{\\mu} \\right)} \\cosh{\\left(\\mathbf{\\mu} \\right)}}{a^{2} \\sin^{2}{\\left(\\mathbf{\\nu} \\right)} + a^{2} \\sinh^{2}{\\left(\\mathbf{\\mu} \\right)}} & 0\\\\0 & 0 & - \\frac{a^{2} \\sin^{2}{\\left(\\mathbf{\\nu} \\right)} \\sinh{\\left(\\mathbf{\\mu} \\right)} \\cosh{\\left(\\mathbf{\\mu} \\right)}}{a^{2} \\sin^{2}{\\left(\\mathbf{\\nu} \\right)} + a^{2} \\sinh^{2}{\\left(\\mathbf{\\mu} \\right)}}\\end{matrix}\\right] & \\left[\\begin{matrix}- \\frac{a^{2} \\sin{\\left(\\mathbf{\\nu} \\right)} \\cos{\\left(\\mathbf{\\nu} \\right)}}{a^{2} \\sin^{2}{\\left(\\mathbf{\\nu} \\right)} + a^{2} \\sinh^{2}{\\left(\\mathbf{\\mu} \\right)}} & \\frac{a^{2} \\sinh{\\left(\\mathbf{\\mu} \\right)} \\cosh{\\left(\\mathbf{\\mu} \\right)}}{a^{2} \\sin^{2}{\\left(\\mathbf{\\nu} \\right)} + a^{2} \\sinh^{2}{\\left(\\mathbf{\\mu} \\right)}} & 0\\\\\\frac{a^{2} \\sinh{\\left(\\mathbf{\\mu} \\right)} \\cosh{\\left(\\mathbf{\\mu} \\right)}}{a^{2} \\sin^{2}{\\left(\\mathbf{\\nu} \\right)} + a^{2} \\sinh^{2}{\\left(\\mathbf{\\mu} \\right)}} & \\frac{a^{2} \\sin{\\left(\\mathbf{\\nu} \\right)} \\cos{\\left(\\mathbf{\\nu} \\right)}}{a^{2} \\sin^{2}{\\left(\\mathbf{\\nu} \\right)} + a^{2} \\sinh^{2}{\\left(\\mathbf{\\mu} \\right)}} & 0\\\\0 & 0 & - \\frac{a^{2} \\sin{\\left(\\mathbf{\\nu} \\right)} \\cos{\\left(\\mathbf{\\nu} \\right)} \\sinh^{2}{\\left(\\mathbf{\\mu} \\right)}}{a^{2} \\sin^{2}{\\left(\\mathbf{\\nu} \\right)} + a^{2} \\sinh^{2}{\\left(\\mathbf{\\mu} \\right)}}\\end{matrix}\\right] & \\left[\\begin{matrix}0 & 0 & \\frac{\\cosh{\\left(\\mathbf{\\mu} \\right)}}{\\sinh{\\left(\\mathbf{\\mu} \\right)}}\\\\0 & 0 & \\frac{\\cos{\\left(\\mathbf{\\nu} \\right)}}{\\sin{\\left(\\mathbf{\\nu} \\right)}}\\\\\\frac{\\cosh{\\left(\\mathbf{\\mu} \\right)}}{\\sinh{\\left(\\mathbf{\\mu} \\right)}} & \\frac{\\cos{\\left(\\mathbf{\\nu} \\right)}}{\\sin{\\left(\\mathbf{\\nu} \\right)}} & 0\\end{matrix}\\right]\\end{matrix}\\right]$"
          },
          "metadata": {}
        },
        {
          "output_type": "stream",
          "name": "stdout",
          "text": [
            "<class 'sympy.tensor.array.dense_ndim_array.ImmutableDenseNDimArray'>\n"
          ]
        }
      ]
    },
    {
      "cell_type": "code",
      "source": [
        "from sympy.diffgeom import metric_to_Riemann_components\n",
        "\n",
        "Riemann = metric_to_Riemann_components(metric_Tensor)\n",
        "displayLatex(Riemann)\n",
        "print(type(Riemann))"
      ],
      "metadata": {
        "colab": {
          "base_uri": "https://localhost:8080/",
          "height": 326
        },
        "id": "EPbtAKjuDY1e",
        "outputId": "e39bb824-0db5-4a85-ee31-2125c2494692"
      },
      "execution_count": null,
      "outputs": [
        {
          "output_type": "display_data",
          "data": {
            "text/plain": [
              "<IPython.core.display.Markdown object>"
            ],
            "text/markdown": "$\\displaystyle  \\left[\\begin{matrix}\\left[\\begin{matrix}0 & 0 & 0\\\\0 & 0 & 0\\\\0 & 0 & 0\\end{matrix}\\right] & \\left[\\begin{matrix}0 & \\frac{2 a^{4} \\sin^{2}{\\left(\\mathbf{\\nu} \\right)} \\cos^{2}{\\left(\\mathbf{\\nu} \\right)}}{\\left(a^{2} \\sin^{2}{\\left(\\mathbf{\\nu} \\right)} + a^{2} \\sinh^{2}{\\left(\\mathbf{\\mu} \\right)}\\right)^{2}} + \\frac{2 a^{4} \\sinh^{2}{\\left(\\mathbf{\\mu} \\right)} \\cosh^{2}{\\left(\\mathbf{\\mu} \\right)}}{\\left(a^{2} \\sin^{2}{\\left(\\mathbf{\\nu} \\right)} + a^{2} \\sinh^{2}{\\left(\\mathbf{\\mu} \\right)}\\right)^{2}} + \\frac{a^{2} \\sin^{2}{\\left(\\mathbf{\\nu} \\right)}}{a^{2} \\sin^{2}{\\left(\\mathbf{\\nu} \\right)} + a^{2} \\sinh^{2}{\\left(\\mathbf{\\mu} \\right)}} - \\frac{a^{2} \\cos^{2}{\\left(\\mathbf{\\nu} \\right)}}{a^{2} \\sin^{2}{\\left(\\mathbf{\\nu} \\right)} + a^{2} \\sinh^{2}{\\left(\\mathbf{\\mu} \\right)}} - \\frac{a^{2} \\sinh^{2}{\\left(\\mathbf{\\mu} \\right)}}{a^{2} \\sin^{2}{\\left(\\mathbf{\\nu} \\right)} + a^{2} \\sinh^{2}{\\left(\\mathbf{\\mu} \\right)}} - \\frac{a^{2} \\cosh^{2}{\\left(\\mathbf{\\mu} \\right)}}{a^{2} \\sin^{2}{\\left(\\mathbf{\\nu} \\right)} + a^{2} \\sinh^{2}{\\left(\\mathbf{\\mu} \\right)}} & 0\\\\- \\frac{2 a^{4} \\sin^{2}{\\left(\\mathbf{\\nu} \\right)} \\cos^{2}{\\left(\\mathbf{\\nu} \\right)}}{\\left(a^{2} \\sin^{2}{\\left(\\mathbf{\\nu} \\right)} + a^{2} \\sinh^{2}{\\left(\\mathbf{\\mu} \\right)}\\right)^{2}} - \\frac{2 a^{4} \\sinh^{2}{\\left(\\mathbf{\\mu} \\right)} \\cosh^{2}{\\left(\\mathbf{\\mu} \\right)}}{\\left(a^{2} \\sin^{2}{\\left(\\mathbf{\\nu} \\right)} + a^{2} \\sinh^{2}{\\left(\\mathbf{\\mu} \\right)}\\right)^{2}} - \\frac{a^{2} \\sin^{2}{\\left(\\mathbf{\\nu} \\right)}}{a^{2} \\sin^{2}{\\left(\\mathbf{\\nu} \\right)} + a^{2} \\sinh^{2}{\\left(\\mathbf{\\mu} \\right)}} + \\frac{a^{2} \\cos^{2}{\\left(\\mathbf{\\nu} \\right)}}{a^{2} \\sin^{2}{\\left(\\mathbf{\\nu} \\right)} + a^{2} \\sinh^{2}{\\left(\\mathbf{\\mu} \\right)}} + \\frac{a^{2} \\sinh^{2}{\\left(\\mathbf{\\mu} \\right)}}{a^{2} \\sin^{2}{\\left(\\mathbf{\\nu} \\right)} + a^{2} \\sinh^{2}{\\left(\\mathbf{\\mu} \\right)}} + \\frac{a^{2} \\cosh^{2}{\\left(\\mathbf{\\mu} \\right)}}{a^{2} \\sin^{2}{\\left(\\mathbf{\\nu} \\right)} + a^{2} \\sinh^{2}{\\left(\\mathbf{\\mu} \\right)}} & 0 & 0\\\\0 & 0 & 0\\end{matrix}\\right] & \\left[\\begin{matrix}0 & 0 & - \\frac{a^{4} \\sin^{2}{\\left(\\mathbf{\\nu} \\right)} \\cos^{2}{\\left(\\mathbf{\\nu} \\right)} \\sinh^{2}{\\left(\\mathbf{\\mu} \\right)}}{\\left(a^{2} \\sin^{2}{\\left(\\mathbf{\\nu} \\right)} + a^{2} \\sinh^{2}{\\left(\\mathbf{\\mu} \\right)}\\right)^{2}} + \\frac{a^{4} \\sin^{2}{\\left(\\mathbf{\\nu} \\right)} \\sinh^{2}{\\left(\\mathbf{\\mu} \\right)} \\cosh^{2}{\\left(\\mathbf{\\mu} \\right)}}{\\left(a^{2} \\sin^{2}{\\left(\\mathbf{\\nu} \\right)} + a^{2} \\sinh^{2}{\\left(\\mathbf{\\mu} \\right)}\\right)^{2}} - \\frac{a^{2} \\sin^{2}{\\left(\\mathbf{\\nu} \\right)} \\sinh^{2}{\\left(\\mathbf{\\mu} \\right)}}{a^{2} \\sin^{2}{\\left(\\mathbf{\\nu} \\right)} + a^{2} \\sinh^{2}{\\left(\\mathbf{\\mu} \\right)}}\\\\0 & 0 & \\frac{a^{4} \\sin^{3}{\\left(\\mathbf{\\nu} \\right)} \\cos{\\left(\\mathbf{\\nu} \\right)} \\sinh{\\left(\\mathbf{\\mu} \\right)} \\cosh{\\left(\\mathbf{\\mu} \\right)}}{\\left(a^{2} \\sin^{2}{\\left(\\mathbf{\\nu} \\right)} + a^{2} \\sinh^{2}{\\left(\\mathbf{\\mu} \\right)}\\right)^{2}} + \\frac{a^{4} \\sin{\\left(\\mathbf{\\nu} \\right)} \\cos{\\left(\\mathbf{\\nu} \\right)} \\sinh^{3}{\\left(\\mathbf{\\mu} \\right)} \\cosh{\\left(\\mathbf{\\mu} \\right)}}{\\left(a^{2} \\sin^{2}{\\left(\\mathbf{\\nu} \\right)} + a^{2} \\sinh^{2}{\\left(\\mathbf{\\mu} \\right)}\\right)^{2}} - \\frac{a^{2} \\sin{\\left(\\mathbf{\\nu} \\right)} \\cos{\\left(\\mathbf{\\nu} \\right)} \\sinh{\\left(\\mathbf{\\mu} \\right)} \\cosh{\\left(\\mathbf{\\mu} \\right)}}{a^{2} \\sin^{2}{\\left(\\mathbf{\\nu} \\right)} + a^{2} \\sinh^{2}{\\left(\\mathbf{\\mu} \\right)}}\\\\\\frac{a^{4} \\sin^{2}{\\left(\\mathbf{\\nu} \\right)} \\cos^{2}{\\left(\\mathbf{\\nu} \\right)} \\sinh^{2}{\\left(\\mathbf{\\mu} \\right)}}{\\left(a^{2} \\sin^{2}{\\left(\\mathbf{\\nu} \\right)} + a^{2} \\sinh^{2}{\\left(\\mathbf{\\mu} \\right)}\\right)^{2}} - \\frac{a^{4} \\sin^{2}{\\left(\\mathbf{\\nu} \\right)} \\sinh^{2}{\\left(\\mathbf{\\mu} \\right)} \\cosh^{2}{\\left(\\mathbf{\\mu} \\right)}}{\\left(a^{2} \\sin^{2}{\\left(\\mathbf{\\nu} \\right)} + a^{2} \\sinh^{2}{\\left(\\mathbf{\\mu} \\right)}\\right)^{2}} + \\frac{a^{2} \\sin^{2}{\\left(\\mathbf{\\nu} \\right)} \\sinh^{2}{\\left(\\mathbf{\\mu} \\right)}}{a^{2} \\sin^{2}{\\left(\\mathbf{\\nu} \\right)} + a^{2} \\sinh^{2}{\\left(\\mathbf{\\mu} \\right)}} & - \\frac{a^{4} \\sin^{3}{\\left(\\mathbf{\\nu} \\right)} \\cos{\\left(\\mathbf{\\nu} \\right)} \\sinh{\\left(\\mathbf{\\mu} \\right)} \\cosh{\\left(\\mathbf{\\mu} \\right)}}{\\left(a^{2} \\sin^{2}{\\left(\\mathbf{\\nu} \\right)} + a^{2} \\sinh^{2}{\\left(\\mathbf{\\mu} \\right)}\\right)^{2}} - \\frac{a^{4} \\sin{\\left(\\mathbf{\\nu} \\right)} \\cos{\\left(\\mathbf{\\nu} \\right)} \\sinh^{3}{\\left(\\mathbf{\\mu} \\right)} \\cosh{\\left(\\mathbf{\\mu} \\right)}}{\\left(a^{2} \\sin^{2}{\\left(\\mathbf{\\nu} \\right)} + a^{2} \\sinh^{2}{\\left(\\mathbf{\\mu} \\right)}\\right)^{2}} + \\frac{a^{2} \\sin{\\left(\\mathbf{\\nu} \\right)} \\cos{\\left(\\mathbf{\\nu} \\right)} \\sinh{\\left(\\mathbf{\\mu} \\right)} \\cosh{\\left(\\mathbf{\\mu} \\right)}}{a^{2} \\sin^{2}{\\left(\\mathbf{\\nu} \\right)} + a^{2} \\sinh^{2}{\\left(\\mathbf{\\mu} \\right)}} & 0\\end{matrix}\\right]\\\\\\left[\\begin{matrix}0 & - \\frac{2 a^{4} \\sin^{2}{\\left(\\mathbf{\\nu} \\right)} \\cos^{2}{\\left(\\mathbf{\\nu} \\right)}}{\\left(a^{2} \\sin^{2}{\\left(\\mathbf{\\nu} \\right)} + a^{2} \\sinh^{2}{\\left(\\mathbf{\\mu} \\right)}\\right)^{2}} - \\frac{2 a^{4} \\sinh^{2}{\\left(\\mathbf{\\mu} \\right)} \\cosh^{2}{\\left(\\mathbf{\\mu} \\right)}}{\\left(a^{2} \\sin^{2}{\\left(\\mathbf{\\nu} \\right)} + a^{2} \\sinh^{2}{\\left(\\mathbf{\\mu} \\right)}\\right)^{2}} - \\frac{a^{2} \\sin^{2}{\\left(\\mathbf{\\nu} \\right)}}{a^{2} \\sin^{2}{\\left(\\mathbf{\\nu} \\right)} + a^{2} \\sinh^{2}{\\left(\\mathbf{\\mu} \\right)}} + \\frac{a^{2} \\cos^{2}{\\left(\\mathbf{\\nu} \\right)}}{a^{2} \\sin^{2}{\\left(\\mathbf{\\nu} \\right)} + a^{2} \\sinh^{2}{\\left(\\mathbf{\\mu} \\right)}} + \\frac{a^{2} \\sinh^{2}{\\left(\\mathbf{\\mu} \\right)}}{a^{2} \\sin^{2}{\\left(\\mathbf{\\nu} \\right)} + a^{2} \\sinh^{2}{\\left(\\mathbf{\\mu} \\right)}} + \\frac{a^{2} \\cosh^{2}{\\left(\\mathbf{\\mu} \\right)}}{a^{2} \\sin^{2}{\\left(\\mathbf{\\nu} \\right)} + a^{2} \\sinh^{2}{\\left(\\mathbf{\\mu} \\right)}} & 0\\\\\\frac{2 a^{4} \\sin^{2}{\\left(\\mathbf{\\nu} \\right)} \\cos^{2}{\\left(\\mathbf{\\nu} \\right)}}{\\left(a^{2} \\sin^{2}{\\left(\\mathbf{\\nu} \\right)} + a^{2} \\sinh^{2}{\\left(\\mathbf{\\mu} \\right)}\\right)^{2}} + \\frac{2 a^{4} \\sinh^{2}{\\left(\\mathbf{\\mu} \\right)} \\cosh^{2}{\\left(\\mathbf{\\mu} \\right)}}{\\left(a^{2} \\sin^{2}{\\left(\\mathbf{\\nu} \\right)} + a^{2} \\sinh^{2}{\\left(\\mathbf{\\mu} \\right)}\\right)^{2}} + \\frac{a^{2} \\sin^{2}{\\left(\\mathbf{\\nu} \\right)}}{a^{2} \\sin^{2}{\\left(\\mathbf{\\nu} \\right)} + a^{2} \\sinh^{2}{\\left(\\mathbf{\\mu} \\right)}} - \\frac{a^{2} \\cos^{2}{\\left(\\mathbf{\\nu} \\right)}}{a^{2} \\sin^{2}{\\left(\\mathbf{\\nu} \\right)} + a^{2} \\sinh^{2}{\\left(\\mathbf{\\mu} \\right)}} - \\frac{a^{2} \\sinh^{2}{\\left(\\mathbf{\\mu} \\right)}}{a^{2} \\sin^{2}{\\left(\\mathbf{\\nu} \\right)} + a^{2} \\sinh^{2}{\\left(\\mathbf{\\mu} \\right)}} - \\frac{a^{2} \\cosh^{2}{\\left(\\mathbf{\\mu} \\right)}}{a^{2} \\sin^{2}{\\left(\\mathbf{\\nu} \\right)} + a^{2} \\sinh^{2}{\\left(\\mathbf{\\mu} \\right)}} & 0 & 0\\\\0 & 0 & 0\\end{matrix}\\right] & \\left[\\begin{matrix}0 & 0 & 0\\\\0 & 0 & 0\\\\0 & 0 & 0\\end{matrix}\\right] & \\left[\\begin{matrix}0 & 0 & \\frac{a^{4} \\sin^{3}{\\left(\\mathbf{\\nu} \\right)} \\cos{\\left(\\mathbf{\\nu} \\right)} \\sinh{\\left(\\mathbf{\\mu} \\right)} \\cosh{\\left(\\mathbf{\\mu} \\right)}}{\\left(a^{2} \\sin^{2}{\\left(\\mathbf{\\nu} \\right)} + a^{2} \\sinh^{2}{\\left(\\mathbf{\\mu} \\right)}\\right)^{2}} + \\frac{a^{4} \\sin{\\left(\\mathbf{\\nu} \\right)} \\cos{\\left(\\mathbf{\\nu} \\right)} \\sinh^{3}{\\left(\\mathbf{\\mu} \\right)} \\cosh{\\left(\\mathbf{\\mu} \\right)}}{\\left(a^{2} \\sin^{2}{\\left(\\mathbf{\\nu} \\right)} + a^{2} \\sinh^{2}{\\left(\\mathbf{\\mu} \\right)}\\right)^{2}} - \\frac{a^{2} \\sin{\\left(\\mathbf{\\nu} \\right)} \\cos{\\left(\\mathbf{\\nu} \\right)} \\sinh{\\left(\\mathbf{\\mu} \\right)} \\cosh{\\left(\\mathbf{\\mu} \\right)}}{a^{2} \\sin^{2}{\\left(\\mathbf{\\nu} \\right)} + a^{2} \\sinh^{2}{\\left(\\mathbf{\\mu} \\right)}}\\\\0 & 0 & \\frac{a^{4} \\sin^{2}{\\left(\\mathbf{\\nu} \\right)} \\cos^{2}{\\left(\\mathbf{\\nu} \\right)} \\sinh^{2}{\\left(\\mathbf{\\mu} \\right)}}{\\left(a^{2} \\sin^{2}{\\left(\\mathbf{\\nu} \\right)} + a^{2} \\sinh^{2}{\\left(\\mathbf{\\mu} \\right)}\\right)^{2}} - \\frac{a^{4} \\sin^{2}{\\left(\\mathbf{\\nu} \\right)} \\sinh^{2}{\\left(\\mathbf{\\mu} \\right)} \\cosh^{2}{\\left(\\mathbf{\\mu} \\right)}}{\\left(a^{2} \\sin^{2}{\\left(\\mathbf{\\nu} \\right)} + a^{2} \\sinh^{2}{\\left(\\mathbf{\\mu} \\right)}\\right)^{2}} + \\frac{a^{2} \\sin^{2}{\\left(\\mathbf{\\nu} \\right)} \\sinh^{2}{\\left(\\mathbf{\\mu} \\right)}}{a^{2} \\sin^{2}{\\left(\\mathbf{\\nu} \\right)} + a^{2} \\sinh^{2}{\\left(\\mathbf{\\mu} \\right)}}\\\\- \\frac{a^{4} \\sin^{3}{\\left(\\mathbf{\\nu} \\right)} \\cos{\\left(\\mathbf{\\nu} \\right)} \\sinh{\\left(\\mathbf{\\mu} \\right)} \\cosh{\\left(\\mathbf{\\mu} \\right)}}{\\left(a^{2} \\sin^{2}{\\left(\\mathbf{\\nu} \\right)} + a^{2} \\sinh^{2}{\\left(\\mathbf{\\mu} \\right)}\\right)^{2}} - \\frac{a^{4} \\sin{\\left(\\mathbf{\\nu} \\right)} \\cos{\\left(\\mathbf{\\nu} \\right)} \\sinh^{3}{\\left(\\mathbf{\\mu} \\right)} \\cosh{\\left(\\mathbf{\\mu} \\right)}}{\\left(a^{2} \\sin^{2}{\\left(\\mathbf{\\nu} \\right)} + a^{2} \\sinh^{2}{\\left(\\mathbf{\\mu} \\right)}\\right)^{2}} + \\frac{a^{2} \\sin{\\left(\\mathbf{\\nu} \\right)} \\cos{\\left(\\mathbf{\\nu} \\right)} \\sinh{\\left(\\mathbf{\\mu} \\right)} \\cosh{\\left(\\mathbf{\\mu} \\right)}}{a^{2} \\sin^{2}{\\left(\\mathbf{\\nu} \\right)} + a^{2} \\sinh^{2}{\\left(\\mathbf{\\mu} \\right)}} & - \\frac{a^{4} \\sin^{2}{\\left(\\mathbf{\\nu} \\right)} \\cos^{2}{\\left(\\mathbf{\\nu} \\right)} \\sinh^{2}{\\left(\\mathbf{\\mu} \\right)}}{\\left(a^{2} \\sin^{2}{\\left(\\mathbf{\\nu} \\right)} + a^{2} \\sinh^{2}{\\left(\\mathbf{\\mu} \\right)}\\right)^{2}} + \\frac{a^{4} \\sin^{2}{\\left(\\mathbf{\\nu} \\right)} \\sinh^{2}{\\left(\\mathbf{\\mu} \\right)} \\cosh^{2}{\\left(\\mathbf{\\mu} \\right)}}{\\left(a^{2} \\sin^{2}{\\left(\\mathbf{\\nu} \\right)} + a^{2} \\sinh^{2}{\\left(\\mathbf{\\mu} \\right)}\\right)^{2}} - \\frac{a^{2} \\sin^{2}{\\left(\\mathbf{\\nu} \\right)} \\sinh^{2}{\\left(\\mathbf{\\mu} \\right)}}{a^{2} \\sin^{2}{\\left(\\mathbf{\\nu} \\right)} + a^{2} \\sinh^{2}{\\left(\\mathbf{\\mu} \\right)}} & 0\\end{matrix}\\right]\\\\\\left[\\begin{matrix}0 & 0 & \\frac{a^{2} \\cos^{2}{\\left(\\mathbf{\\nu} \\right)}}{a^{2} \\sin^{2}{\\left(\\mathbf{\\nu} \\right)} + a^{2} \\sinh^{2}{\\left(\\mathbf{\\mu} \\right)}} - \\frac{a^{2} \\cosh^{2}{\\left(\\mathbf{\\mu} \\right)}}{a^{2} \\sin^{2}{\\left(\\mathbf{\\nu} \\right)} + a^{2} \\sinh^{2}{\\left(\\mathbf{\\mu} \\right)}} + 1\\\\0 & 0 & - \\frac{a^{2} \\sin{\\left(\\mathbf{\\nu} \\right)} \\cos{\\left(\\mathbf{\\nu} \\right)} \\cosh{\\left(\\mathbf{\\mu} \\right)}}{\\left(a^{2} \\sin^{2}{\\left(\\mathbf{\\nu} \\right)} + a^{2} \\sinh^{2}{\\left(\\mathbf{\\mu} \\right)}\\right) \\sinh{\\left(\\mathbf{\\mu} \\right)}} - \\frac{a^{2} \\cos{\\left(\\mathbf{\\nu} \\right)} \\sinh{\\left(\\mathbf{\\mu} \\right)} \\cosh{\\left(\\mathbf{\\mu} \\right)}}{\\left(a^{2} \\sin^{2}{\\left(\\mathbf{\\nu} \\right)} + a^{2} \\sinh^{2}{\\left(\\mathbf{\\mu} \\right)}\\right) \\sin{\\left(\\mathbf{\\nu} \\right)}} + \\frac{\\cos{\\left(\\mathbf{\\nu} \\right)} \\cosh{\\left(\\mathbf{\\mu} \\right)}}{\\sin{\\left(\\mathbf{\\nu} \\right)} \\sinh{\\left(\\mathbf{\\mu} \\right)}}\\\\- \\frac{a^{2} \\cos^{2}{\\left(\\mathbf{\\nu} \\right)}}{a^{2} \\sin^{2}{\\left(\\mathbf{\\nu} \\right)} + a^{2} \\sinh^{2}{\\left(\\mathbf{\\mu} \\right)}} + \\frac{a^{2} \\cosh^{2}{\\left(\\mathbf{\\mu} \\right)}}{a^{2} \\sin^{2}{\\left(\\mathbf{\\nu} \\right)} + a^{2} \\sinh^{2}{\\left(\\mathbf{\\mu} \\right)}} - 1 & \\frac{a^{2} \\sin{\\left(\\mathbf{\\nu} \\right)} \\cos{\\left(\\mathbf{\\nu} \\right)} \\cosh{\\left(\\mathbf{\\mu} \\right)}}{\\left(a^{2} \\sin^{2}{\\left(\\mathbf{\\nu} \\right)} + a^{2} \\sinh^{2}{\\left(\\mathbf{\\mu} \\right)}\\right) \\sinh{\\left(\\mathbf{\\mu} \\right)}} + \\frac{a^{2} \\cos{\\left(\\mathbf{\\nu} \\right)} \\sinh{\\left(\\mathbf{\\mu} \\right)} \\cosh{\\left(\\mathbf{\\mu} \\right)}}{\\left(a^{2} \\sin^{2}{\\left(\\mathbf{\\nu} \\right)} + a^{2} \\sinh^{2}{\\left(\\mathbf{\\mu} \\right)}\\right) \\sin{\\left(\\mathbf{\\nu} \\right)}} - \\frac{\\cos{\\left(\\mathbf{\\nu} \\right)} \\cosh{\\left(\\mathbf{\\mu} \\right)}}{\\sin{\\left(\\mathbf{\\nu} \\right)} \\sinh{\\left(\\mathbf{\\mu} \\right)}} & 0\\end{matrix}\\right] & \\left[\\begin{matrix}0 & 0 & - \\frac{a^{2} \\sin{\\left(\\mathbf{\\nu} \\right)} \\cos{\\left(\\mathbf{\\nu} \\right)} \\cosh{\\left(\\mathbf{\\mu} \\right)}}{\\left(a^{2} \\sin^{2}{\\left(\\mathbf{\\nu} \\right)} + a^{2} \\sinh^{2}{\\left(\\mathbf{\\mu} \\right)}\\right) \\sinh{\\left(\\mathbf{\\mu} \\right)}} - \\frac{a^{2} \\cos{\\left(\\mathbf{\\nu} \\right)} \\sinh{\\left(\\mathbf{\\mu} \\right)} \\cosh{\\left(\\mathbf{\\mu} \\right)}}{\\left(a^{2} \\sin^{2}{\\left(\\mathbf{\\nu} \\right)} + a^{2} \\sinh^{2}{\\left(\\mathbf{\\mu} \\right)}\\right) \\sin{\\left(\\mathbf{\\nu} \\right)}} + \\frac{\\cos{\\left(\\mathbf{\\nu} \\right)} \\cosh{\\left(\\mathbf{\\mu} \\right)}}{\\sin{\\left(\\mathbf{\\nu} \\right)} \\sinh{\\left(\\mathbf{\\mu} \\right)}}\\\\0 & 0 & - \\frac{a^{2} \\cos^{2}{\\left(\\mathbf{\\nu} \\right)}}{a^{2} \\sin^{2}{\\left(\\mathbf{\\nu} \\right)} + a^{2} \\sinh^{2}{\\left(\\mathbf{\\mu} \\right)}} + \\frac{a^{2} \\cosh^{2}{\\left(\\mathbf{\\mu} \\right)}}{a^{2} \\sin^{2}{\\left(\\mathbf{\\nu} \\right)} + a^{2} \\sinh^{2}{\\left(\\mathbf{\\mu} \\right)}} - 1\\\\\\frac{a^{2} \\sin{\\left(\\mathbf{\\nu} \\right)} \\cos{\\left(\\mathbf{\\nu} \\right)} \\cosh{\\left(\\mathbf{\\mu} \\right)}}{\\left(a^{2} \\sin^{2}{\\left(\\mathbf{\\nu} \\right)} + a^{2} \\sinh^{2}{\\left(\\mathbf{\\mu} \\right)}\\right) \\sinh{\\left(\\mathbf{\\mu} \\right)}} + \\frac{a^{2} \\cos{\\left(\\mathbf{\\nu} \\right)} \\sinh{\\left(\\mathbf{\\mu} \\right)} \\cosh{\\left(\\mathbf{\\mu} \\right)}}{\\left(a^{2} \\sin^{2}{\\left(\\mathbf{\\nu} \\right)} + a^{2} \\sinh^{2}{\\left(\\mathbf{\\mu} \\right)}\\right) \\sin{\\left(\\mathbf{\\nu} \\right)}} - \\frac{\\cos{\\left(\\mathbf{\\nu} \\right)} \\cosh{\\left(\\mathbf{\\mu} \\right)}}{\\sin{\\left(\\mathbf{\\nu} \\right)} \\sinh{\\left(\\mathbf{\\mu} \\right)}} & \\frac{a^{2} \\cos^{2}{\\left(\\mathbf{\\nu} \\right)}}{a^{2} \\sin^{2}{\\left(\\mathbf{\\nu} \\right)} + a^{2} \\sinh^{2}{\\left(\\mathbf{\\mu} \\right)}} - \\frac{a^{2} \\cosh^{2}{\\left(\\mathbf{\\mu} \\right)}}{a^{2} \\sin^{2}{\\left(\\mathbf{\\nu} \\right)} + a^{2} \\sinh^{2}{\\left(\\mathbf{\\mu} \\right)}} + 1 & 0\\end{matrix}\\right] & \\left[\\begin{matrix}0 & 0 & 0\\\\0 & 0 & 0\\\\0 & 0 & 0\\end{matrix}\\right]\\end{matrix}\\right]$"
          },
          "metadata": {}
        },
        {
          "output_type": "stream",
          "name": "stdout",
          "text": [
            "<class 'sympy.tensor.array.dense_ndim_array.ImmutableDenseNDimArray'>\n"
          ]
        }
      ]
    }
  ]
}