{
  "cells": [
    {
      "cell_type": "markdown",
      "metadata": {
        "id": "view-in-github",
        "colab_type": "text"
      },
      "source": [
        "<a href=\"https://colab.research.google.com/github/drdrwenski/sympy-examples/blob/main/MetricTensorEuclideanSpace.ipynb\" target=\"_parent\"><img src=\"https://colab.research.google.com/assets/colab-badge.svg\" alt=\"Open In Colab\"/></a>"
      ]
    },
    {
      "cell_type": "markdown",
      "metadata": {
        "id": "K615gbJ-7uPu"
      },
      "source": [
        "# Metric Tensor in Euclidean Space"
      ]
    },
    {
      "cell_type": "markdown",
      "metadata": {
        "id": "QCUm9XbG6x7Y"
      },
      "source": [
        "The metric tensor is a fundamental concept in the field of differential geometry. It is a mathematical object that encodes the intrinsic geometry of a space, allowing us to measure distances, angles, and volumes within that space.\n",
        "At its core, the metric tensor is a second-rank tensor that describes the local curvature and distance relationships in a given coordinate system. It is a symmetric, positive-definite matrix that transforms covariantly under changes of the coordinate system. This means that the metric tensor contains all the information needed to perform measurements and calculations within the space, regardless of how the coordinates are defined."
      ]
    },
    {
      "cell_type": "markdown",
      "metadata": {
        "id": "Rqcbu9X7GFLn"
      },
      "source": [
        "**Note:** Euclidean space allows for rectangular coordinates by definition. In particular, any metric tensor in such space is obtainable by transformation from the unit matrix."
      ]
    },
    {
      "cell_type": "markdown",
      "metadata": {
        "id": "ZoPDchEb-XYT"
      },
      "source": [
        "##Preliminaries"
      ]
    },
    {
      "cell_type": "markdown",
      "metadata": {
        "id": "JignJRQFMOKk"
      },
      "source": [
        "First, upgrade to the latest version of SymPy if necessary. This should be at least **v1.10**."
      ]
    },
    {
      "cell_type": "code",
      "execution_count": 1,
      "metadata": {
        "id": "J1qIZeGtyZ4J"
      },
      "outputs": [],
      "source": [
        "%%capture\n",
        "%pip install --upgrade sympy"
      ]
    },
    {
      "cell_type": "markdown",
      "metadata": {
        "id": "qfXCnkD4cO7c"
      },
      "source": [
        "Next, we define some output helper functions, providing shorthand notations for derivatives in curvilinear coordinates (still not working perfectly well)."
      ]
    },
    {
      "cell_type": "code",
      "execution_count": 2,
      "metadata": {
        "cellView": "form",
        "id": "2lHf23A3b942"
      },
      "outputs": [],
      "source": [
        "#@title Output Helper Functions\n",
        "from IPython.display import display, Markdown\n",
        "from sympy import latex\n",
        "\n",
        "def displayLatex(expr, **kwargs):\n",
        "  intro = kwargs.get('intro', '')\n",
        "  output = rf'$\\displaystyle {intro} {latex(expr)}$'\n",
        "  display(Markdown(output))\n",
        "\n",
        "def displayLeibniz(expr,func,sys):\n",
        "  leibnizComplete = ''\n",
        "  for term in expr.args:\n",
        "    leibniz = latex(term)\n",
        "    # find second derivatives\n",
        "    for i,j in zip(range(sys.dim),range(sys.dim)):\n",
        "      coordStr0 = latex(sys.base_scalar(i))\n",
        "      coordStr1 = latex(sys.base_scalar(j))\n",
        "      # original notation\n",
        "      replStr = latex(Differential(Differential(func)(sys.base_vector(i)))(sys.base_vector(j)))\n",
        "      # shorthand notation\n",
        "      if i == j:\n",
        "        subsStr = rf'\\frac{{\\partial^{{2}} {func.name}}}{{\\partial {coordStr0}^{{2}}}}'\n",
        "      else:\n",
        "        subsStr = rf'\\frac{{\\partial^{{2}} {func.name}}}{{\\partial {coordStr1} \\partial {coordStr0}}}'\n",
        "      if leibniz.find(replStr) >= 0:\n",
        "        leibniz = leibniz.replace(replStr,'')\n",
        "        leibniz = leibniz + subsStr\n",
        "    # find first derivatives\n",
        "    for i in range(sys.dim):\n",
        "      coordStr = latex(sys.base_scalar(i))\n",
        "      baseStr = latex(sys.base_vector(i))\n",
        "      # original notation\n",
        "      replStr = latex(Differential(func)(sys.base_vector(i)))\n",
        "      # shorthand notation\n",
        "      subsStr = rf'\\frac{{\\partial {func.name}}}{{\\partial {coordStr}}}'\n",
        "      if leibniz.find(replStr) >= 0:\n",
        "        leibniz = leibniz.replace(replStr,'')\n",
        "        leibniz = leibniz + subsStr\n",
        "      # rearrange terms\n",
        "      if leibniz.find(baseStr) >= 0:\n",
        "        leibniz = leibniz.replace(baseStr,'')\n",
        "        leibniz = leibniz + baseStr\n",
        "    # rebuild sum of derivatives\n",
        "    if len(leibnizComplete) == 0:\n",
        "      leibnizComplete = leibniz\n",
        "    else:\n",
        "      leibnizComplete = leibnizComplete + '+' + leibniz\n",
        "  leibnizComplete = leibnizComplete.replace(rf'\\frac{{ }}',rf'\\frac{{1}}')\n",
        "  leibnizComplete = leibnizComplete.replace(rf'\\frac{{}}',rf'\\frac{{1}}')\n",
        "  display(Markdown(rf'$\\displaystyle {leibnizComplete}$'))"
      ]
    },
    {
      "cell_type": "markdown",
      "metadata": {
        "id": "L20g0tLz2_LF"
      },
      "source": [
        "##Curvilinear Coordinates"
      ]
    },
    {
      "cell_type": "markdown",
      "metadata": {
        "id": "pDzh6MpHMdr1"
      },
      "source": [
        "Spherical & cylindrical 3D coordinates are introduced utilizing the vector module. The Cartesian coordinate system serves as the parent instance for all other types of coordinate systems since we are considering Euclidean space. Coordinate transformations are then stored as symbolic expressions in a Python dictionary *relations*.\n",
        "Additional dictionaries provide simplification methods tailored to each coordinate system, enhancing computational efficiency and readability of results."
      ]
    },
    {
      "cell_type": "code",
      "execution_count": 3,
      "metadata": {
        "colab": {
          "base_uri": "https://localhost:8080/",
          "height": 98
        },
        "id": "JQo3XW0JGdZC",
        "outputId": "8952f326-e4f9-41c1-a9d5-6b0b7246fe12"
      },
      "outputs": [
        {
          "output_type": "display_data",
          "data": {
            "text/plain": [
              "<IPython.core.display.Markdown object>"
            ],
            "text/markdown": "$\\displaystyle \\text{Spherical coordinates:  } (x,y,z) =  \\left( r \\sin{\\left(\\theta \\right)} \\cos{\\left(\\phi \\right)}, \\  r \\sin{\\left(\\phi \\right)} \\sin{\\left(\\theta \\right)}, \\  r \\cos{\\left(\\theta \\right)}\\right)$"
          },
          "metadata": {}
        },
        {
          "output_type": "display_data",
          "data": {
            "text/plain": [
              "<IPython.core.display.Markdown object>"
            ],
            "text/markdown": "$\\displaystyle \\text{Cylindrical coordinates:  } (x,y,z) =  \\left( r \\cos{\\left(\\theta \\right)}, \\  r \\sin{\\left(\\theta \\right)}, \\  z\\right)$"
          },
          "metadata": {}
        },
        {
          "output_type": "execute_result",
          "data": {
            "text/plain": [
              "\"\\ncurvature = {\\n    'Spherical': (lambda elem: factor(TR9(TR2(TR11(factor(elem))))))\\n}\\n\""
            ],
            "application/vnd.google.colaboratory.intrinsic+json": {
              "type": "string"
            }
          },
          "metadata": {},
          "execution_count": 3
        }
      ],
      "source": [
        "from sympy.vector import CoordSys3D\n",
        "Cart = CoordSys3D('Cart')\n",
        "Spher = Cart.create_new('Spher', transformation='spherical')\n",
        "Cyl = Cart.create_new('Cyl', transformation='cylindrical')\n",
        "\n",
        "# Since there is no built-in transformation_to_parent_function() yet,\n",
        "# we apply the following workaround.\n",
        "def transformation_to_parent_function(child, scalars):\n",
        "  sc = (scalars, child.base_scalars())\n",
        "  abbrev = [(sc[1][i],sc[0][i]) for i in range(3)]\n",
        "  return tuple(expr.subs(abbrev) for expr in child.transformation_to_parent())\n",
        "\n",
        "from sympy import symbols, Function, Lambda\n",
        "from sympy import sqrt\n",
        "x, y, z = symbols('x y z', real=True)\n",
        "r, theta, phi = symbols('r theta phi', nonnegative=True)\n",
        "\n",
        "# Python dictionary of coordinate transformations\n",
        "relations = {\n",
        "        ('Cartesian','Spherical'):\n",
        "            Lambda((x,y,z), Spher.transformation_from_parent_function()(x,y,z)),\n",
        "        ('Spherical','Cartesian'):\n",
        "            Lambda((r,theta,phi), transformation_to_parent_function(Spher, (r,theta,phi))),\n",
        "        ('Cartesian','Cylindrical'):\n",
        "            Lambda((x,y,z), Cyl.transformation_from_parent_function()(x,y,z)),\n",
        "        ('Cylindrical','Cartesian'):\n",
        "            Lambda((r,theta,z), transformation_to_parent_function(Cyl, (r,theta,z)))\n",
        "}\n",
        "\n",
        "displayLatex(relations[('Spherical','Cartesian')](r,theta,phi),\n",
        "              intro = r'\\text{Spherical coordinates:  } (x,y,z) = ')\n",
        "displayLatex(relations[('Cylindrical','Cartesian')](r,theta,z),\n",
        "              intro = r'\\text{Cylindrical coordinates:  } (x,y,z) = ')\n",
        "\n",
        "# Python dictionaries of simplification strategies\n",
        "from sympy import simplify, expand, factor, cancel\n",
        "from sympy import expand_power_base, powdenest\n",
        "from sympy.simplify.fu import TR2, TR9, TR6, TR11\n",
        "from functools import reduce\n",
        "from operator import mul\n",
        "\n",
        "simplifications = {\n",
        "    'Spherical': (lambda elem: expand(TR6(factor(TR6(elem))))),\n",
        "    'Cylindrical': (lambda elem: expand(TR6(factor(elem))))\n",
        "}\n",
        "\n",
        "powers = {\n",
        "    'Spherical': (lambda elem: powdenest(expand_power_base(elem, force=True), force=True)),\n",
        "    'Cylindrical': (lambda elem: powdenest(elem, force=True))\n",
        "}\n",
        "\n",
        "\"\"\"\n",
        "curvature = {\n",
        "    'Spherical': (lambda elem: factor(TR9(TR2(TR11(factor(elem))))))\n",
        "}\n",
        "\"\"\""
      ]
    },
    {
      "cell_type": "markdown",
      "metadata": {
        "id": "sSol0uROnT0I"
      },
      "source": [
        "We also provide a coordinate transformation from an ellipsoidal coordinate system to a Cartesian coordinate system."
      ]
    },
    {
      "cell_type": "code",
      "execution_count": 4,
      "metadata": {
        "colab": {
          "base_uri": "https://localhost:8080/",
          "height": 90
        },
        "id": "wqCahiPaRhHJ",
        "outputId": "286bd2b6-e3f0-4c51-c4ff-60159a3cca1d"
      },
      "outputs": [
        {
          "output_type": "execute_result",
          "data": {
            "text/plain": [
              "\"\\nxi, eta, zeta = symbols('xi eta zeta', real=True)\\na, b, c = symbols('a b c', nonnegative=True)\\n\\nexprs = tuple(\\n    sqrt(reduce(mul, [(coord**2+ellips) for ellips in (xi,eta,zeta)])/\\n         reduce(mul, [(cart**2-coord**2) for cart in (a,b,c) if cart != coord]))\\n    for coord in (a,b,c)\\n)\\n\\nrelations[('Ellipsoidal','Cartesian')] = Lambda((xi,eta,zeta), exprs)\\nsimplifications['Ellipsoidal'] = (lambda elem: factor(cancel(elem)))\\npowers['Ellipsoidal'] = (lambda elem: elem)\\n\\ndisplayLatex(exprs[0])\\n\""
            ],
            "application/vnd.google.colaboratory.intrinsic+json": {
              "type": "string"
            }
          },
          "metadata": {},
          "execution_count": 4
        }
      ],
      "source": [
        "# Check assumptions:\n",
        "\"\"\"\n",
        "xi, eta, zeta = symbols('xi eta zeta', real=True)\n",
        "a, b, c = symbols('a b c', nonnegative=True)\n",
        "\n",
        "exprs = tuple(\n",
        "    sqrt(reduce(mul, [(coord**2+ellips) for ellips in (xi,eta,zeta)])/\n",
        "         reduce(mul, [(cart**2-coord**2) for cart in (a,b,c) if cart != coord]))\n",
        "    for coord in (a,b,c)\n",
        ")\n",
        "\n",
        "relations[('Ellipsoidal','Cartesian')] = Lambda((xi,eta,zeta), exprs)\n",
        "simplifications['Ellipsoidal'] = (lambda elem: factor(cancel(elem)))\n",
        "powers['Ellipsoidal'] = (lambda elem: elem)\n",
        "\n",
        "displayLatex(exprs[0])\n",
        "\"\"\""
      ]
    },
    {
      "cell_type": "markdown",
      "metadata": {
        "id": "J-PSAgG6lsKq"
      },
      "source": [
        "We also provide a coordinate transformation from a prolate spheroidal coordinate system to a Cartesian coordinate system."
      ]
    },
    {
      "cell_type": "code",
      "execution_count": 5,
      "metadata": {
        "colab": {
          "base_uri": "https://localhost:8080/",
          "height": 51
        },
        "id": "poTrVPi5llLc",
        "outputId": "d2d5c103-3dc5-425d-bbea-4dd540395843"
      },
      "outputs": [
        {
          "output_type": "display_data",
          "data": {
            "text/plain": [
              "<IPython.core.display.Markdown object>"
            ],
            "text/markdown": "$\\displaystyle \\text{Prolate spheroidal coordinates:  } (x,y,z) =  \\left( a \\sin{\\left(\\nu \\right)} \\cos{\\left(\\phi \\right)} \\sinh{\\left(\\mu \\right)}, \\  a \\sin{\\left(\\nu \\right)} \\sin{\\left(\\phi \\right)} \\sinh{\\left(\\mu \\right)}, \\  a \\cos{\\left(\\nu \\right)} \\cosh{\\left(\\mu \\right)}\\right)$"
          },
          "metadata": {}
        }
      ],
      "source": [
        "from sympy import sin, cos, sinh, cosh\n",
        "from sympy import Wild\n",
        "# Check assumptions:\n",
        "mu, nu, phi = symbols('mu nu phi', nonnegative=True)\n",
        "a = symbols('a', nonnegative=True)   # positive?\n",
        "\n",
        "exprs = (\n",
        "    a*sinh(mu)*sin(nu)*cos(phi),\n",
        "    a*sinh(mu)*sin(nu)*sin(phi),\n",
        "    a*cosh(mu)*cos(nu),\n",
        ")\n",
        "\n",
        "def replace_cosh2(expr):\n",
        "  u = Wild('u')\n",
        "  return expr.replace(cosh(u)**2, 1+sinh(u)**2)\n",
        "\n",
        "from sympy.simplify import trigsimp\n",
        "relations[('ProlateSpheroidal','Cartesian')] = Lambda((mu,nu,phi), exprs)\n",
        "simplifications['ProlateSpheroidal'] = (lambda elem: factor(expand(replace_cosh2(TR6(elem)))))\n",
        "# curvature['ProlateSpheroidal'] = (lambda elem: expand(trigsimp(factor(elem))))\n",
        "powers['ProlateSpheroidal'] = (lambda elem: elem)\n",
        "\n",
        "displayLatex(exprs, intro = r'\\text{Prolate spheroidal coordinates:  } (x,y,z) = ')"
      ]
    },
    {
      "cell_type": "markdown",
      "metadata": {
        "id": "ncHiZ_yT3aOh"
      },
      "source": [
        "##Metric Tensor"
      ]
    },
    {
      "cell_type": "markdown",
      "metadata": {
        "id": "kmDlYDSeM5EJ"
      },
      "source": [
        "We set up a 3-dimensional manifold, define a patch on that manifold, and create two coordinate systems on that patch: one Cartesian and one of a user-chosen type ('Spherical', 'Cylindrical' or 'ProlateSpheroidal')."
      ]
    },
    {
      "cell_type": "code",
      "execution_count": 6,
      "metadata": {
        "id": "ngZRWFLKr2pY"
      },
      "outputs": [],
      "source": [
        "from sympy.diffgeom import Manifold, Patch, CoordSystem\n",
        "M = Manifold('M', 3)\n",
        "P = Patch('P', M)\n",
        "\n",
        "# Try any of 'Spherical', 'Cylindrical', 'ProlateSpheroidal'\n",
        "CoordSystemType = 'ProlateSpheroidal'\n",
        "CoordSystemSymbols = relations.get((CoordSystemType,'Cartesian')).args[0]\n",
        "\"\"\"\n",
        "CoordRelation = dict({\n",
        "    (CoordSystemType,'Cartesian'): relations.get((CoordSystemType,'Cartesian'))\n",
        "})\n",
        "\"\"\"\n",
        "\n",
        "R3 = CoordSystem('Cartesian', P, (x,y,z), relations)\n",
        "S0 = CoordSystem(CoordSystemType, P, CoordSystemSymbols, relations)\n",
        "nrange = range(S0.dim)"
      ]
    },
    {
      "cell_type": "markdown",
      "metadata": {
        "id": "OgfQOtm7OIPO"
      },
      "source": [
        "**Example.** The point $(1,1,1)$ in the curvilinear system $S_0$ is given in cartesian coordinates as follows:"
      ]
    },
    {
      "cell_type": "code",
      "execution_count": 7,
      "metadata": {
        "colab": {
          "base_uri": "https://localhost:8080/",
          "height": 90
        },
        "id": "Km1TwKHkOhBt",
        "outputId": "e36e0561-eb14-4f04-cbbd-a3d3b3cefa5b"
      },
      "outputs": [
        {
          "output_type": "display_data",
          "data": {
            "text/plain": [
              "<IPython.core.display.Markdown object>"
            ],
            "text/markdown": "$\\displaystyle  \\left[\\begin{matrix}0.534303710691389 a\\\\0.832128726342548 a\\\\0.833730025131149 a\\end{matrix}\\right]$"
          },
          "metadata": {}
        }
      ],
      "source": [
        "from sympy.diffgeom import Point\n",
        "point = Point(S0, (1,1,1))\n",
        "displayLatex(point.coords(R3).evalf())"
      ]
    },
    {
      "cell_type": "code",
      "execution_count": 8,
      "metadata": {
        "colab": {
          "base_uri": "https://localhost:8080/",
          "height": 101
        },
        "id": "R6Ja5O3Vf6BD",
        "outputId": "38380776-57ce-4939-fa4c-4c8b124b494f"
      },
      "outputs": [
        {
          "output_type": "display_data",
          "data": {
            "text/plain": [
              "<IPython.core.display.Markdown object>"
            ],
            "text/markdown": "$\\displaystyle  \\left. \\frac{d}{d \\xi} f{\\left(\\xi,\\mathbf{\\nu},\\mathbf{\\phi} \\right)} \\right|_{\\substack{ \\xi=\\mathbf{\\mu} }}$"
          },
          "metadata": {}
        },
        {
          "output_type": "display_data",
          "data": {
            "text/plain": [
              "<IPython.core.display.Markdown object>"
            ],
            "text/markdown": "$\\displaystyle  2 \\mathbf{\\mu}$"
          },
          "metadata": {}
        }
      ],
      "source": [
        "from sympy.diffgeom import Differential\n",
        "func = Function('f')(*S0.base_scalars())\n",
        "displayLatex(Differential(func)(S0.base_vector(0)))\n",
        "\n",
        "func = S0.base_scalar(0)**2\n",
        "displayLatex(Differential(func)(S0.base_vector(0)))"
      ]
    },
    {
      "cell_type": "markdown",
      "metadata": {
        "id": "60OxGzdAvXx7"
      },
      "source": [
        "In applications the metric tensor is usually displayed either as a quadratic form $\\ ds^2$ or as a matrix $\\ (g_{ij})$."
      ]
    },
    {
      "cell_type": "code",
      "execution_count": 9,
      "metadata": {
        "colab": {
          "base_uri": "https://localhost:8080/",
          "height": 308
        },
        "id": "AjWyxeJtEEca",
        "outputId": "dee82f87-cf06-4df8-e77a-8437e8adb2be"
      },
      "outputs": [
        {
          "output_type": "display_data",
          "data": {
            "text/plain": [
              "<IPython.core.display.Markdown object>"
            ],
            "text/markdown": "$\\displaystyle ds^2 = a^{2} \\left(\\sin^{2}{\\left(\\mathbf{\\nu} \\right)} + \\sinh^{2}{\\left(\\mathbf{\\mu} \\right)}\\right) \\operatorname{d}\\mu \\otimes \\operatorname{d}\\mu + a^{2} \\left(\\sin^{2}{\\left(\\mathbf{\\nu} \\right)} + \\sinh^{2}{\\left(\\mathbf{\\mu} \\right)}\\right) \\operatorname{d}\\nu \\otimes \\operatorname{d}\\nu + a^{2} \\sin^{2}{\\left(\\mathbf{\\nu} \\right)} \\sinh^{2}{\\left(\\mathbf{\\mu} \\right)} \\operatorname{d}\\phi \\otimes \\operatorname{d}\\phi$"
          },
          "metadata": {}
        },
        {
          "output_type": "stream",
          "name": "stdout",
          "text": [
            "\n"
          ]
        },
        {
          "output_type": "display_data",
          "data": {
            "text/plain": [
              "<IPython.core.display.Markdown object>"
            ],
            "text/markdown": "$\\displaystyle (g_{ij}) =  \\left[\\begin{matrix}a^{2} \\left(\\sin^{2}{\\left(\\mathbf{\\nu} \\right)} + \\sinh^{2}{\\left(\\mathbf{\\mu} \\right)}\\right) & 0 & 0\\\\0 & a^{2} \\left(\\sin^{2}{\\left(\\mathbf{\\nu} \\right)} + \\sinh^{2}{\\left(\\mathbf{\\mu} \\right)}\\right) & 0\\\\0 & 0 & a^{2} \\sin^{2}{\\left(\\mathbf{\\nu} \\right)} \\sinh^{2}{\\left(\\mathbf{\\mu} \\right)}\\end{matrix}\\right]$"
          },
          "metadata": {}
        },
        {
          "output_type": "stream",
          "name": "stdout",
          "text": [
            "\n"
          ]
        },
        {
          "output_type": "display_data",
          "data": {
            "text/plain": [
              "<IPython.core.display.Markdown object>"
            ],
            "text/markdown": "$\\displaystyle (g^{ij}) =  \\left[\\begin{matrix}\\frac{1}{a^{2} \\left(\\sin^{2}{\\left(\\mathbf{\\nu} \\right)} + \\sinh^{2}{\\left(\\mathbf{\\mu} \\right)}\\right)} & 0 & 0\\\\0 & \\frac{1}{a^{2} \\left(\\sin^{2}{\\left(\\mathbf{\\nu} \\right)} + \\sinh^{2}{\\left(\\mathbf{\\mu} \\right)}\\right)} & 0\\\\0 & 0 & \\frac{1}{a^{2} \\sin^{2}{\\left(\\mathbf{\\nu} \\right)} \\sinh^{2}{\\left(\\mathbf{\\mu} \\right)}}\\end{matrix}\\right]$"
          },
          "metadata": {}
        },
        {
          "output_type": "stream",
          "name": "stdout",
          "text": [
            "\n"
          ]
        },
        {
          "output_type": "display_data",
          "data": {
            "text/plain": [
              "<IPython.core.display.Markdown object>"
            ],
            "text/markdown": "$\\displaystyle \\det (g_{ij}) =  a^{3} \\sqrt{\\left(\\sin^{2}{\\left(\\mathbf{\\nu} \\right)} + \\sinh^{2}{\\left(\\mathbf{\\mu} \\right)}\\right)^{2} \\sin^{2}{\\left(\\mathbf{\\nu} \\right)} \\sinh^{2}{\\left(\\mathbf{\\mu} \\right)}}$"
          },
          "metadata": {}
        }
      ],
      "source": [
        "from sympy.matrices import Matrix, diag\n",
        "from sympy.diffgeom import TensorProduct\n",
        "\n",
        "Jacob = S0.jacobian(R3, S0.base_scalars())\n",
        "G_metric = Jacob.T * Jacob\n",
        "G_metric = G_metric.as_mutable().applyfunc(simplifications.get(CoordSystemType,simplify)).as_immutable()\n",
        "\n",
        "if G_metric.is_diagonal():\n",
        "  diagonal = [G_metric[i,i] for i in nrange]\n",
        "  G_inv = diag(*[1/d for d in diagonal])\n",
        "  G_sqrt = sqrt(reduce(mul,diagonal))\n",
        "  G_sqrt = powers.get(CoordSystemType,simplify)(G_sqrt)\n",
        "else:\n",
        "  G_inv = G_metric.inv()\n",
        "  G_sqrt = Jacob.det()\n",
        "\n",
        "metric_Tensor = sum([ G_metric[i,j] * TensorProduct(S0.base_oneform(i), S0.base_oneform(j))\n",
        "                      for (i,j) in zip(nrange,nrange) ])\n",
        "\n",
        "displayLatex(metric_Tensor, intro = 'ds^2 =')\n",
        "print()\n",
        "displayLatex(G_metric, intro = '(g_{ij}) = ')\n",
        "print()\n",
        "displayLatex(G_inv, intro = '(g^{ij}) = ')\n",
        "print()\n",
        "displayLatex(G_sqrt, intro = r'\\det (g_{ij}) = ')"
      ]
    },
    {
      "cell_type": "markdown",
      "metadata": {
        "id": "JwrSUqCj31Dw"
      },
      "source": [
        "##Gradient & Laplacian"
      ]
    },
    {
      "cell_type": "markdown",
      "metadata": {
        "id": "iK0U6wtT8LSp"
      },
      "source": [
        "Next, we define a function that returns the **gradient vector field** of a scalar field *s_field*. It first computes the contravariant components *tmp*, then the vector field is easily obtained by list comprehension.\n",
        "\n",
        "**Note:** The CoordSystem *sys* and the inverse metric tensor *g_inv* have to be provided by the caller!"
      ]
    },
    {
      "cell_type": "code",
      "execution_count": 10,
      "metadata": {
        "colab": {
          "base_uri": "https://localhost:8080/",
          "height": 71
        },
        "id": "12FDazIMGbsC",
        "outputId": "31eef506-e8b7-4a5e-b2e7-39064bd3f35a"
      },
      "outputs": [
        {
          "output_type": "display_data",
          "data": {
            "text/plain": [
              "<IPython.core.display.Markdown object>"
            ],
            "text/markdown": "$\\displaystyle \\frac{1}{a^{2} \\left(\\sin^{2}{\\left(\\mathbf{\\nu} \\right)} + \\sinh^{2}{\\left(\\mathbf{\\mu} \\right)}\\right)}\\frac{\\partial f}{\\partial \\mathbf{\\mu}}\\partial_{\\mu}+\\frac{1}{a^{2} \\left(\\sin^{2}{\\left(\\mathbf{\\nu} \\right)} + \\sinh^{2}{\\left(\\mathbf{\\mu} \\right)}\\right)}\\frac{\\partial f}{\\partial \\mathbf{\\nu}}\\partial_{\\nu}+\\frac{1}{a^{2} \\sin^{2}{\\left(\\mathbf{\\nu} \\right)} \\sinh^{2}{\\left(\\mathbf{\\mu} \\right)}}\\frac{\\partial f}{\\partial \\mathbf{\\phi}}\\partial_{\\phi}$"
          },
          "metadata": {}
        }
      ],
      "source": [
        "from sympy.diffgeom import Differential\n",
        "func = Function('f')(*S0.base_scalars())\n",
        "\n",
        "def grad_of_field(s_field, sys, g_inv):\n",
        "  tmp = g_inv * Matrix([(Differential(s_field)(e)) for e in sys.base_vectors()])\n",
        "  return sum([tmp[i]*sys.base_vector(i) for i in range(sys.dim)])\n",
        "\n",
        "gradient = grad_of_field(func, S0, G_inv)\n",
        "displayLeibniz(gradient, func, S0)\n",
        "#gradient"
      ]
    },
    {
      "cell_type": "code",
      "execution_count": 11,
      "metadata": {
        "colab": {
          "base_uri": "https://localhost:8080/",
          "height": 241
        },
        "id": "ruv9bxikN-47",
        "outputId": "99ef0e06-058e-4abe-c92e-4551d8884f84"
      },
      "outputs": [
        {
          "output_type": "stream",
          "name": "stdout",
          "text": [
            "Original SymPy output:\n"
          ]
        },
        {
          "output_type": "display_data",
          "data": {
            "text/plain": [
              "<IPython.core.display.Markdown object>"
            ],
            "text/markdown": "$\\displaystyle  \\frac{\\sin{\\left(\\mathbf{\\nu} \\right)} \\left. \\frac{d^{2}}{d \\xi^{2}} f{\\left(\\mathbf{\\mu},\\xi,\\mathbf{\\phi} \\right)} \\right|_{\\substack{ \\xi=\\mathbf{\\nu} }} + \\cos{\\left(\\mathbf{\\nu} \\right)} \\left. \\frac{d}{d \\xi} f{\\left(\\mathbf{\\mu},\\xi,\\mathbf{\\phi} \\right)} \\right|_{\\substack{ \\xi=\\mathbf{\\nu} }}}{a^{2} \\left(\\sin^{2}{\\left(\\mathbf{\\nu} \\right)} + \\sinh^{2}{\\left(\\mathbf{\\mu} \\right)}\\right) \\sin{\\left(\\mathbf{\\nu} \\right)}} + \\frac{\\sinh{\\left(\\mathbf{\\mu} \\right)} \\left. \\frac{d^{2}}{d \\xi^{2}} f{\\left(\\xi,\\mathbf{\\nu},\\mathbf{\\phi} \\right)} \\right|_{\\substack{ \\xi=\\mathbf{\\mu} }} + \\cosh{\\left(\\mathbf{\\mu} \\right)} \\left. \\frac{d}{d \\xi} f{\\left(\\xi,\\mathbf{\\nu},\\mathbf{\\phi} \\right)} \\right|_{\\substack{ \\xi=\\mathbf{\\mu} }}}{a^{2} \\left(\\sin^{2}{\\left(\\mathbf{\\nu} \\right)} + \\sinh^{2}{\\left(\\mathbf{\\mu} \\right)}\\right) \\sinh{\\left(\\mathbf{\\mu} \\right)}} + \\frac{\\left. \\frac{d^{2}}{d \\xi^{2}} f{\\left(\\mathbf{\\mu},\\mathbf{\\nu},\\xi \\right)} \\right|_{\\substack{ \\xi=\\mathbf{\\phi} }}}{a^{2} \\sin^{2}{\\left(\\mathbf{\\nu} \\right)} \\sinh^{2}{\\left(\\mathbf{\\mu} \\right)}}$"
          },
          "metadata": {}
        },
        {
          "output_type": "stream",
          "name": "stdout",
          "text": [
            "\n",
            "More human readable output:\n"
          ]
        },
        {
          "output_type": "display_data",
          "data": {
            "text/plain": [
              "<IPython.core.display.Markdown object>"
            ],
            "text/markdown": "$\\displaystyle \\frac{\\cos{\\left(\\mathbf{\\nu} \\right)} }{a^{2} \\sin^{3}{\\left(\\mathbf{\\nu} \\right)} + a^{2} \\sin{\\left(\\mathbf{\\nu} \\right)} \\sinh^{2}{\\left(\\mathbf{\\mu} \\right)}}\\frac{\\partial f}{\\partial \\mathbf{\\nu}}+\\frac{\\sin{\\left(\\mathbf{\\nu} \\right)} }{a^{2} \\sin^{3}{\\left(\\mathbf{\\nu} \\right)} + a^{2} \\sin{\\left(\\mathbf{\\nu} \\right)} \\sinh^{2}{\\left(\\mathbf{\\mu} \\right)}}\\frac{\\partial^{2} f}{\\partial \\mathbf{\\nu}^{2}}+\\frac{\\cosh{\\left(\\mathbf{\\mu} \\right)} }{a^{2} \\sin^{2}{\\left(\\mathbf{\\nu} \\right)} \\sinh{\\left(\\mathbf{\\mu} \\right)} + a^{2} \\sinh^{3}{\\left(\\mathbf{\\mu} \\right)}}\\frac{\\partial f}{\\partial \\mathbf{\\mu}}+\\frac{\\sinh{\\left(\\mathbf{\\mu} \\right)} }{a^{2} \\sin^{2}{\\left(\\mathbf{\\nu} \\right)} \\sinh{\\left(\\mathbf{\\mu} \\right)} + a^{2} \\sinh^{3}{\\left(\\mathbf{\\mu} \\right)}}\\frac{\\partial^{2} f}{\\partial \\mathbf{\\mu}^{2}}+\\frac{1}{a^{2} \\sin^{2}{\\left(\\mathbf{\\nu} \\right)} \\sinh^{2}{\\left(\\mathbf{\\mu} \\right)}}\\frac{\\partial^{2} f}{\\partial \\mathbf{\\phi}^{2}}$"
          },
          "metadata": {}
        }
      ],
      "source": [
        "def div_of_field(v_field, sys, g_sqrt):\n",
        "  tmp = g_sqrt * Matrix([dx(v_field) for dx in sys.base_oneforms()])\n",
        "  return sum([simplifications.get(str(sys.name),simplify)(Differential(tmp[i])(sys.base_vector(i))/g_sqrt)\n",
        "              for i in range(sys.dim)])\n",
        "\n",
        "laplace = powers.get(str(S0.name),simplify)(div_of_field(gradient, S0, G_sqrt)) # .expand().trigsimp()\n",
        "print('Original SymPy output:')\n",
        "displayLatex(laplace)\n",
        "print()\n",
        "print('More human readable output:')\n",
        "displayLeibniz(laplace.expand(),func,S0)"
      ]
    },
    {
      "cell_type": "markdown",
      "metadata": {
        "id": "w48NO_Rf4Qvt"
      },
      "source": [
        "##Curvature"
      ]
    },
    {
      "cell_type": "code",
      "execution_count": 12,
      "metadata": {
        "colab": {
          "base_uri": "https://localhost:8080/",
          "height": 100
        },
        "id": "ygdh2Bq9Per2",
        "outputId": "7d424861-6905-4cb3-cb26-2a32d6c7e420"
      },
      "outputs": [
        {
          "output_type": "display_data",
          "data": {
            "text/plain": [
              "<IPython.core.display.Markdown object>"
            ],
            "text/markdown": "$\\displaystyle  a^{2} \\left(\\sin^{2}{\\left(\\mathbf{\\nu} \\right)} + \\sinh^{2}{\\left(\\mathbf{\\mu} \\right)}\\right)$"
          },
          "metadata": {}
        },
        {
          "output_type": "display_data",
          "data": {
            "text/plain": [
              "<IPython.core.display.Markdown object>"
            ],
            "text/markdown": "$\\displaystyle  \\partial_{\\nu}$"
          },
          "metadata": {}
        },
        {
          "output_type": "execute_result",
          "data": {
            "text/plain": [
              "2*a**2*sin(nu)*cos(nu)"
            ],
            "text/latex": "$\\displaystyle 2 a^{2} \\sin{\\left(\\mathbf{\\nu} \\right)} \\cos{\\left(\\mathbf{\\nu} \\right)}$"
          },
          "metadata": {},
          "execution_count": 12
        }
      ],
      "source": [
        "from sympy.diffgeom import Differential\n",
        "\n",
        "displayLatex(G_metric[0,0])\n",
        "displayLatex(S0.base_vector(1))\n",
        "\n",
        "Differential(G_metric[0,0])(S0.base_vector(1))"
      ]
    },
    {
      "cell_type": "code",
      "execution_count": 13,
      "metadata": {
        "colab": {
          "base_uri": "https://localhost:8080/",
          "height": 110
        },
        "id": "GeQAr58B0YxG",
        "outputId": "ac4d9ebf-f48c-414a-f0f2-1309e3e863e4"
      },
      "outputs": [
        {
          "output_type": "display_data",
          "data": {
            "text/plain": [
              "<IPython.core.display.Markdown object>"
            ],
            "text/markdown": "$\\displaystyle  \\left[ \\left[\\begin{matrix}\\frac{\\sinh{\\left(\\mathbf{\\mu} \\right)} \\cosh{\\left(\\mathbf{\\mu} \\right)}}{\\sin^{2}{\\left(\\mathbf{\\nu} \\right)} + \\sinh^{2}{\\left(\\mathbf{\\mu} \\right)}} & \\frac{\\sin{\\left(\\mathbf{\\nu} \\right)} \\cos{\\left(\\mathbf{\\nu} \\right)}}{\\sin^{2}{\\left(\\mathbf{\\nu} \\right)} + \\sinh^{2}{\\left(\\mathbf{\\mu} \\right)}} & 0\\\\\\frac{\\sin{\\left(\\mathbf{\\nu} \\right)} \\cos{\\left(\\mathbf{\\nu} \\right)}}{\\sin^{2}{\\left(\\mathbf{\\nu} \\right)} + \\sinh^{2}{\\left(\\mathbf{\\mu} \\right)}} & - \\frac{\\sinh{\\left(\\mathbf{\\mu} \\right)} \\cosh{\\left(\\mathbf{\\mu} \\right)}}{\\sin^{2}{\\left(\\mathbf{\\nu} \\right)} + \\sinh^{2}{\\left(\\mathbf{\\mu} \\right)}} & 0\\\\0 & 0 & - \\frac{\\sin^{2}{\\left(\\mathbf{\\nu} \\right)} \\sinh{\\left(\\mathbf{\\mu} \\right)} \\cosh{\\left(\\mathbf{\\mu} \\right)}}{\\sin^{2}{\\left(\\mathbf{\\nu} \\right)} + \\sinh^{2}{\\left(\\mathbf{\\mu} \\right)}}\\end{matrix}\\right], \\  \\left[\\begin{matrix}- \\frac{\\sin{\\left(\\mathbf{\\nu} \\right)} \\cos{\\left(\\mathbf{\\nu} \\right)}}{\\sin^{2}{\\left(\\mathbf{\\nu} \\right)} + \\sinh^{2}{\\left(\\mathbf{\\mu} \\right)}} & \\frac{\\sinh{\\left(\\mathbf{\\mu} \\right)} \\cosh{\\left(\\mathbf{\\mu} \\right)}}{\\sin^{2}{\\left(\\mathbf{\\nu} \\right)} + \\sinh^{2}{\\left(\\mathbf{\\mu} \\right)}} & 0\\\\\\frac{\\sinh{\\left(\\mathbf{\\mu} \\right)} \\cosh{\\left(\\mathbf{\\mu} \\right)}}{\\sin^{2}{\\left(\\mathbf{\\nu} \\right)} + \\sinh^{2}{\\left(\\mathbf{\\mu} \\right)}} & \\frac{\\sin{\\left(\\mathbf{\\nu} \\right)} \\cos{\\left(\\mathbf{\\nu} \\right)}}{\\sin^{2}{\\left(\\mathbf{\\nu} \\right)} + \\sinh^{2}{\\left(\\mathbf{\\mu} \\right)}} & 0\\\\0 & 0 & - \\frac{\\sin{\\left(\\mathbf{\\nu} \\right)} \\cos{\\left(\\mathbf{\\nu} \\right)} \\sinh^{2}{\\left(\\mathbf{\\mu} \\right)}}{\\sin^{2}{\\left(\\mathbf{\\nu} \\right)} + \\sinh^{2}{\\left(\\mathbf{\\mu} \\right)}}\\end{matrix}\\right], \\  \\left[\\begin{matrix}0 & 0 & \\frac{\\cosh{\\left(\\mathbf{\\mu} \\right)}}{\\sinh{\\left(\\mathbf{\\mu} \\right)}}\\\\0 & 0 & \\frac{\\cos{\\left(\\mathbf{\\nu} \\right)}}{\\sin{\\left(\\mathbf{\\nu} \\right)}}\\\\\\frac{\\cosh{\\left(\\mathbf{\\mu} \\right)}}{\\sinh{\\left(\\mathbf{\\mu} \\right)}} & \\frac{\\cos{\\left(\\mathbf{\\nu} \\right)}}{\\sin{\\left(\\mathbf{\\nu} \\right)}} & 0\\end{matrix}\\right]\\right]$"
          },
          "metadata": {}
        }
      ],
      "source": [
        "#@title Computation of Christoffel symbols\n",
        "from sympy.diffgeom import Differential\n",
        "from sympy import Rational\n",
        "\n",
        "diff_metric = [\n",
        "    simplifications.get(str(S0.name),simplify)(Differential(G_metric)(S0.base_vector(k)))\n",
        "    for k in nrange ]\n",
        "\n",
        "# note the ordering of the parameters m, i, j\n",
        "def christoffel_symbol(m,i,j):\n",
        "  return Rational(1,2)*sum([ G_inv[m,k]*(diff_metric[j][i,k] + diff_metric[i][k,j] - diff_metric[k][i,j]) for k in nrange ])\n",
        "\n",
        "christoffel = []\n",
        "\n",
        "for m in nrange:\n",
        "  upper_triangle = Matrix([\n",
        "      [powers.get(str(S0.name),simplify)(christoffel_symbol(m,i,j))\n",
        "        if i<=j else 0 for j in nrange]\n",
        "      for i in nrange])\n",
        "  lower_triangle = Matrix([[upper_triangle[j,i] if i>j else 0 for j in nrange] for i in nrange])\n",
        "  christoffel.append(upper_triangle + lower_triangle)\n",
        "\n",
        "displayLatex(christoffel)"
      ]
    },
    {
      "cell_type": "code",
      "execution_count": 14,
      "metadata": {
        "colab": {
          "base_uri": "https://localhost:8080/",
          "height": 90
        },
        "id": "-HAqzvB5rFXe",
        "outputId": "67650697-8869-465b-bad0-e4ff62c38d47"
      },
      "outputs": [
        {
          "output_type": "display_data",
          "data": {
            "text/plain": [
              "<IPython.core.display.Markdown object>"
            ],
            "text/markdown": "$\\displaystyle  \\left[ \\left[ \\left[\\begin{matrix}0 & 0 & 0\\\\0 & 0 & 0\\\\0 & 0 & 0\\end{matrix}\\right], \\  \\left[\\begin{matrix}0 & 0 & 0\\\\0 & 0 & 0\\\\0 & 0 & 0\\end{matrix}\\right], \\  \\left[\\begin{matrix}0 & 0 & 0\\\\0 & 0 & 0\\\\0 & 0 & 0\\end{matrix}\\right]\\right], \\  \\left[ \\left[\\begin{matrix}0 & 0 & 0\\\\0 & 0 & 0\\\\0 & 0 & 0\\end{matrix}\\right], \\  \\left[\\begin{matrix}0 & 0 & 0\\\\0 & 0 & 0\\\\0 & 0 & 0\\end{matrix}\\right], \\  \\left[\\begin{matrix}0 & 0 & 0\\\\0 & 0 & 0\\\\0 & 0 & 0\\end{matrix}\\right]\\right], \\  \\left[ \\left[\\begin{matrix}0 & 0 & 0\\\\0 & 0 & 0\\\\0 & 0 & 0\\end{matrix}\\right], \\  \\left[\\begin{matrix}0 & 0 & 0\\\\0 & 0 & 0\\\\0 & 0 & 0\\end{matrix}\\right], \\  \\left[\\begin{matrix}0 & 0 & 0\\\\0 & 0 & 0\\\\0 & 0 & 0\\end{matrix}\\right]\\right]\\right]$"
          },
          "metadata": {}
        }
      ],
      "source": [
        "# note the ordering of the parameters m, k, i, j\n",
        "def riemann_component(m,k,i,j):\n",
        "  rc = Differential(christoffel[m][j,k])(S0.base_vector(i))\n",
        "  rc -= Differential(christoffel[m][i,k])(S0.base_vector(j))\n",
        "  rc += sum([christoffel[m][i,index]*christoffel[index][j,k] for index in nrange])\n",
        "  rc -= sum([christoffel[m][j,index]*christoffel[index][i,k] for index in nrange])\n",
        "  return rc\n",
        "\n",
        "riemann = [[ Matrix([[ simplifications.get(str(S0.name),simplify)(riemann_component(m,k,i,j))\n",
        "    for j in nrange] for i in nrange])\n",
        "  for k in nrange] for m in nrange]\n",
        "\n",
        "displayLatex(riemann)\n",
        "\n",
        "# point = Point(S0, (1,1,1))\n",
        "# displayLatex(riemann[0][2][1,2])\n",
        "# displayLatex(factor(riemann_component(0,2,1,2)))"
      ]
    },
    {
      "cell_type": "code",
      "execution_count": 15,
      "metadata": {
        "colab": {
          "base_uri": "https://localhost:8080/",
          "height": 54
        },
        "id": "oMde9IwXJQBa",
        "outputId": "735561a2-c97d-43c1-a8b2-af952f338ba2"
      },
      "outputs": [
        {
          "output_type": "execute_result",
          "data": {
            "text/plain": [
              "'\\nfrom sympy.diffgeom import metric_to_Christoffel_2nd\\nfrom sympy import srepr\\n\\nchris = metric_to_Christoffel_2nd(metric_Tensor)\\ndisplayLatex(chris)\\nprint(type(chris))\\n# print(srepr(chris))\\n'"
            ],
            "application/vnd.google.colaboratory.intrinsic+json": {
              "type": "string"
            }
          },
          "metadata": {},
          "execution_count": 15
        }
      ],
      "source": [
        "\"\"\"\n",
        "from sympy.diffgeom import metric_to_Christoffel_2nd\n",
        "from sympy import srepr\n",
        "\n",
        "chris = metric_to_Christoffel_2nd(metric_Tensor)\n",
        "displayLatex(chris)\n",
        "print(type(chris))\n",
        "# print(srepr(chris))\n",
        "\"\"\""
      ]
    },
    {
      "cell_type": "code",
      "execution_count": 16,
      "metadata": {
        "colab": {
          "base_uri": "https://localhost:8080/",
          "height": 54
        },
        "id": "EPbtAKjuDY1e",
        "outputId": "bd63e077-3b95-4a1e-ccba-2465bbadc32e"
      },
      "outputs": [
        {
          "output_type": "execute_result",
          "data": {
            "text/plain": [
              "'\\nfrom sympy.diffgeom import metric_to_Riemann_components\\n\\nRiemann = metric_to_Riemann_components(metric_Tensor)\\ndisplayLatex(Riemann)\\nprint(type(Riemann))\\n'"
            ],
            "application/vnd.google.colaboratory.intrinsic+json": {
              "type": "string"
            }
          },
          "metadata": {},
          "execution_count": 16
        }
      ],
      "source": [
        "\"\"\"\n",
        "from sympy.diffgeom import metric_to_Riemann_components\n",
        "\n",
        "Riemann = metric_to_Riemann_components(metric_Tensor)\n",
        "displayLatex(Riemann)\n",
        "print(type(Riemann))\n",
        "\"\"\""
      ]
    }
  ],
  "metadata": {
    "colab": {
      "provenance": [],
      "include_colab_link": true
    },
    "kernelspec": {
      "display_name": "Python 3",
      "name": "python3"
    },
    "language_info": {
      "name": "python"
    }
  },
  "nbformat": 4,
  "nbformat_minor": 0
}