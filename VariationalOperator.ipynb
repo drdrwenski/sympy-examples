{
  "nbformat": 4,
  "nbformat_minor": 0,
  "metadata": {
    "colab": {
      "provenance": [],
      "authorship_tag": "ABX9TyPyWfQFKb6cDpJ9X0jZ3AlJ",
      "include_colab_link": true
    },
    "kernelspec": {
      "name": "python3",
      "display_name": "Python 3"
    },
    "language_info": {
      "name": "python"
    }
  },
  "cells": [
    {
      "cell_type": "markdown",
      "metadata": {
        "id": "view-in-github",
        "colab_type": "text"
      },
      "source": [
        "<a href=\"https://colab.research.google.com/github/drdrwenski/sympy-examples/blob/main/VariationalOperator.ipynb\" target=\"_parent\"><img src=\"https://colab.research.google.com/assets/colab-badge.svg\" alt=\"Open In Colab\"/></a>"
      ]
    },
    {
      "cell_type": "markdown",
      "source": [
        "An attempt to do Variational Calculus in SymPy."
      ],
      "metadata": {
        "id": "aKJCP_krN8KE"
      }
    },
    {
      "cell_type": "code",
      "source": [
        "from IPython.display import display, Markdown\n",
        "from sympy import latex\n",
        "\n",
        "def displayLatex(expr):\n",
        "    display(Markdown(rf'$\\displaystyle {latex(expr)}$'))"
      ],
      "metadata": {
        "id": "pj0Js0--rxqq"
      },
      "execution_count": 10,
      "outputs": []
    },
    {
      "cell_type": "code",
      "execution_count": 11,
      "metadata": {
        "colab": {
          "base_uri": "https://localhost:8080/",
          "height": 70
        },
        "id": "8R--DHZU4ugD",
        "outputId": "88ae971d-4c08-459f-ea06-40f2144a49e7"
      },
      "outputs": [
        {
          "output_type": "display_data",
          "data": {
            "text/plain": [
              "<IPython.core.display.Markdown object>"
            ],
            "text/markdown": "$\\displaystyle F{\\left(x,y{\\left(x \\right)},\\frac{d}{d x} y{\\left(x \\right)} \\right)}$"
          },
          "metadata": {}
        }
      ],
      "source": [
        "from sympy import symbols, Function, Derivative, Integral, Eq\n",
        "from sympy import sqrt\n",
        "\n",
        "x, a, b, eps = symbols('x a b epsilon', real=True)\n",
        "y = Function('y', real=True)\n",
        "phi = Function('phi', real=True)\n",
        "F = Function('F', real=True)\n",
        "\n",
        "density = F(x, y(x), Derivative(y(x), x))\n",
        "# density = sqrt(1+y(x).diff(x)**2)\n",
        "# density = y(x)*y(x).diff(x)\n",
        "\n",
        "displayLatex(density)"
      ]
    },
    {
      "cell_type": "code",
      "source": [
        "density_perturbation = density.subs(y(x), y(x)+eps*phi(x))\n",
        "density_variation = density_perturbation.diff(eps).subs(eps, 0)\n",
        "\n",
        "displayLatex(Eq(Derivative(density_perturbation, eps).subs(eps,0), density_variation))"
      ],
      "metadata": {
        "colab": {
          "base_uri": "https://localhost:8080/",
          "height": 75
        },
        "id": "1aI_Bgfa51Bg",
        "outputId": "be1266a1-9af8-42d3-edd7-f800fa3780fc"
      },
      "execution_count": 18,
      "outputs": [
        {
          "output_type": "display_data",
          "data": {
            "text/plain": [
              "<IPython.core.display.Markdown object>"
            ],
            "text/markdown": "$\\displaystyle \\left. \\frac{\\partial}{\\partial \\epsilon} F{\\left(x,\\epsilon \\phi{\\left(x \\right)} + y{\\left(x \\right)},\\frac{\\partial}{\\partial x} \\left(\\epsilon \\phi{\\left(x \\right)} + y{\\left(x \\right)}\\right) \\right)} \\right|_{\\substack{ \\epsilon=0 }} = \\phi{\\left(x \\right)} \\left. \\frac{\\partial}{\\partial \\xi_{2}} F{\\left(x,\\xi_{2},\\frac{d}{d x} y{\\left(x \\right)} \\right)} \\right|_{\\substack{ \\xi_{2}=y{\\left(x \\right)} }} + \\frac{d}{d x} \\phi{\\left(x \\right)} \\left. \\frac{\\partial}{\\partial \\xi_{3}} F{\\left(x,y{\\left(x \\right)},\\xi_{3} \\right)} \\right|_{\\substack{ \\xi_{3}=\\frac{d}{d x} y{\\left(x \\right)} }}$"
          },
          "metadata": {}
        }
      ]
    },
    {
      "cell_type": "code",
      "source": [
        "Jvar = Integral(density_variation, x).expand()\n",
        "displayLatex(Jvar)"
      ],
      "metadata": {
        "colab": {
          "base_uri": "https://localhost:8080/",
          "height": 75
        },
        "id": "6YJaBHxww24I",
        "outputId": "5a446451-37a4-4b2d-a357-a1f0418266cf"
      },
      "execution_count": 13,
      "outputs": [
        {
          "output_type": "display_data",
          "data": {
            "text/plain": [
              "<IPython.core.display.Markdown object>"
            ],
            "text/markdown": "$\\displaystyle \\int \\phi{\\left(x \\right)} \\left. \\frac{\\partial}{\\partial \\xi_{2}} F{\\left(x,\\xi_{2},\\frac{d}{d x} y{\\left(x \\right)} \\right)} \\right|_{\\substack{ \\xi_{2}=y{\\left(x \\right)} }}\\, dx + \\int \\frac{d}{d x} \\phi{\\left(x \\right)} \\left. \\frac{\\partial}{\\partial \\xi_{3}} F{\\left(x,y{\\left(x \\right)},\\xi_{3} \\right)} \\right|_{\\substack{ \\xi_{3}=\\frac{d}{d x} y{\\left(x \\right)} }}\\, dx$"
          },
          "metadata": {}
        }
      ]
    },
    {
      "cell_type": "markdown",
      "source": [
        "Assuming that integration by parts is possible with zero boundary values:"
      ],
      "metadata": {
        "id": "bxFDQfKkbxLR"
      }
    },
    {
      "cell_type": "code",
      "source": [
        "from sympy import Wild\n",
        "u  = Wild('u')\n",
        "\n",
        "Jvar_by_parts = Jvar.replace(\n",
        "    Integral(u * Derivative(phi(x),x), x),\n",
        "    -Integral(Derivative(u,x) * phi(x), x) )\n",
        "displayLatex(Jvar_by_parts)"
      ],
      "metadata": {
        "colab": {
          "base_uri": "https://localhost:8080/",
          "height": 75
        },
        "id": "lurcdTpw1vWn",
        "outputId": "9f98c0a0-82a2-4f56-aff2-7991bb29da13"
      },
      "execution_count": 19,
      "outputs": [
        {
          "output_type": "display_data",
          "data": {
            "text/plain": [
              "<IPython.core.display.Markdown object>"
            ],
            "text/markdown": "$\\displaystyle - \\int \\phi{\\left(x \\right)} \\frac{d}{d x} \\left. \\frac{\\partial}{\\partial \\xi_{3}} F{\\left(x,y{\\left(x \\right)},\\xi_{3} \\right)} \\right|_{\\substack{ \\xi_{3}=\\frac{d}{d x} y{\\left(x \\right)} }}\\, dx + \\int \\phi{\\left(x \\right)} \\left. \\frac{\\partial}{\\partial \\xi_{2}} F{\\left(x,\\xi_{2},\\frac{d}{d x} y{\\left(x \\right)} \\right)} \\right|_{\\substack{ \\xi_{2}=y{\\left(x \\right)} }}\\, dx$"
          },
          "metadata": {}
        }
      ]
    }
  ]
}