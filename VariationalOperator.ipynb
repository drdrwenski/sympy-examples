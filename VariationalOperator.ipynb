{
  "nbformat": 4,
  "nbformat_minor": 0,
  "metadata": {
    "colab": {
      "provenance": [],
      "authorship_tag": "ABX9TyMtRfcM3nzyTiqy5wRkMm76",
      "include_colab_link": true
    },
    "kernelspec": {
      "name": "python3",
      "display_name": "Python 3"
    },
    "language_info": {
      "name": "python"
    }
  },
  "cells": [
    {
      "cell_type": "markdown",
      "metadata": {
        "id": "view-in-github",
        "colab_type": "text"
      },
      "source": [
        "<a href=\"https://colab.research.google.com/github/drdrwenski/sympy-examples/blob/main/VariationalOperator.ipynb\" target=\"_parent\"><img src=\"https://colab.research.google.com/assets/colab-badge.svg\" alt=\"Open In Colab\"/></a>"
      ]
    },
    {
      "cell_type": "markdown",
      "source": [
        "An attempt to do Variational Calculus in SymPy."
      ],
      "metadata": {
        "id": "aKJCP_krN8KE"
      }
    },
    {
      "cell_type": "code",
      "execution_count": 1,
      "metadata": {
        "colab": {
          "base_uri": "https://localhost:8080/",
          "height": 80
        },
        "id": "8R--DHZU4ugD",
        "outputId": "d3b00812-996d-4c2a-ebbf-40d40109d186"
      },
      "outputs": [
        {
          "output_type": "execute_result",
          "data": {
            "text/plain": [
              "Integral(y(x)*Derivative(y(x), x), (x, a, b))"
            ],
            "text/latex": "$\\displaystyle \\int\\limits_{a}^{b} y{\\left(x \\right)} \\frac{d}{d x} y{\\left(x \\right)}\\, dx$"
          },
          "metadata": {},
          "execution_count": 1
        }
      ],
      "source": [
        "from sympy import symbols, Function, Derivative, Integral\n",
        "\n",
        "x, a, b, eps = symbols('x a b epsilon', real=True)\n",
        "y = Function('y', real=True)\n",
        "phi = Function('phi', real=True)\n",
        "F = Function('F', real=True)\n",
        "\n",
        "# J = Integral(F(x, y(x), Derivative(y(x), x)), (x, a, b))\n",
        "J = Integral(y(x)*y(x).diff(x), (x, a, b))\n",
        "J"
      ]
    },
    {
      "cell_type": "code",
      "source": [
        "Jvar = J.subs(y(x), y(x)+eps*phi(x))\n",
        "Jvar"
      ],
      "metadata": {
        "colab": {
          "base_uri": "https://localhost:8080/",
          "height": 80
        },
        "id": "ugQP4VHA5kxm",
        "outputId": "31e51ad8-f976-461f-b7b7-823b2366f6a6"
      },
      "execution_count": 2,
      "outputs": [
        {
          "output_type": "execute_result",
          "data": {
            "text/plain": [
              "Integral((epsilon*phi(x) + y(x))*Derivative(epsilon*phi(x) + y(x), x), (x, a, b))"
            ],
            "text/latex": "$\\displaystyle \\int\\limits_{a}^{b} \\left(\\epsilon \\phi{\\left(x \\right)} + y{\\left(x \\right)}\\right) \\frac{\\partial}{\\partial x} \\left(\\epsilon \\phi{\\left(x \\right)} + y{\\left(x \\right)}\\right)\\, dx$"
          },
          "metadata": {},
          "execution_count": 2
        }
      ]
    },
    {
      "cell_type": "code",
      "source": [
        "Jvar.diff(eps).subs(eps, 0)"
      ],
      "metadata": {
        "colab": {
          "base_uri": "https://localhost:8080/",
          "height": 80
        },
        "id": "1aI_Bgfa51Bg",
        "outputId": "95fab727-af84-4e7d-e492-9a3bd62076ba"
      },
      "execution_count": 3,
      "outputs": [
        {
          "output_type": "execute_result",
          "data": {
            "text/plain": [
              "Integral(phi(x)*Derivative(y(x), x) + y(x)*Derivative(phi(x), x), (x, a, b))"
            ],
            "text/latex": "$\\displaystyle \\int\\limits_{a}^{b} \\left(\\phi{\\left(x \\right)} \\frac{d}{d x} y{\\left(x \\right)} + y{\\left(x \\right)} \\frac{d}{d x} \\phi{\\left(x \\right)}\\right)\\, dx$"
          },
          "metadata": {},
          "execution_count": 3
        }
      ]
    }
  ]
}