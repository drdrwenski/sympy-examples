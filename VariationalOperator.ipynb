{
  "nbformat": 4,
  "nbformat_minor": 0,
  "metadata": {
    "colab": {
      "provenance": [],
      "authorship_tag": "ABX9TyOBVfGHvMmgyP6XBGt21FaN",
      "include_colab_link": true
    },
    "kernelspec": {
      "name": "python3",
      "display_name": "Python 3"
    },
    "language_info": {
      "name": "python"
    }
  },
  "cells": [
    {
      "cell_type": "markdown",
      "metadata": {
        "id": "view-in-github",
        "colab_type": "text"
      },
      "source": [
        "<a href=\"https://colab.research.google.com/github/drdrwenski/sympy-examples/blob/main/VariationalOperator.ipynb\" target=\"_parent\"><img src=\"https://colab.research.google.com/assets/colab-badge.svg\" alt=\"Open In Colab\"/></a>"
      ]
    },
    {
      "cell_type": "markdown",
      "source": [
        "An attempt to do Variational Calculus in SymPy."
      ],
      "metadata": {
        "id": "aKJCP_krN8KE"
      }
    },
    {
      "cell_type": "code",
      "execution_count": 1,
      "metadata": {
        "colab": {
          "base_uri": "https://localhost:8080/",
          "height": 80
        },
        "id": "8R--DHZU4ugD",
        "outputId": "6dd24f89-c9ec-421d-9972-b965dd8992a1"
      },
      "outputs": [
        {
          "output_type": "execute_result",
          "data": {
            "text/plain": [
              "Integral(F(x, y(x), Derivative(y(x), x)), (x, a, b))"
            ],
            "text/latex": "$\\displaystyle \\int\\limits_{a}^{b} F{\\left(x,y{\\left(x \\right)},\\frac{d}{d x} y{\\left(x \\right)} \\right)}\\, dx$"
          },
          "metadata": {},
          "execution_count": 1
        }
      ],
      "source": [
        "from sympy import symbols, Function, Derivative, Integral\n",
        "from sympy import sqrt\n",
        "\n",
        "x, a, b, eps = symbols('x a b epsilon', real=True)\n",
        "y = Function('y', real=True)\n",
        "phi = Function('phi', real=True)\n",
        "F = Function('F', real=True)\n",
        "\n",
        "J = Integral(F(x, y(x), Derivative(y(x), x)), (x, a, b))\n",
        "# J = Integral(sqrt(1+y(x).diff(x)**2), (x, a, b))\n",
        "# J = Integral(y(x)*y(x).diff(x), (x, a, b))\n",
        "J"
      ]
    },
    {
      "cell_type": "code",
      "source": [
        "Jvar = J.subs(y(x), y(x)+eps*phi(x))\n",
        "Jvar"
      ],
      "metadata": {
        "colab": {
          "base_uri": "https://localhost:8080/",
          "height": 80
        },
        "id": "ugQP4VHA5kxm",
        "outputId": "2f219cbb-9c21-4352-dd62-663dd7a3c4bd"
      },
      "execution_count": 2,
      "outputs": [
        {
          "output_type": "execute_result",
          "data": {
            "text/plain": [
              "Integral(F(x, epsilon*phi(x) + y(x), Derivative(epsilon*phi(x) + y(x), x)), (x, a, b))"
            ],
            "text/latex": "$\\displaystyle \\int\\limits_{a}^{b} F{\\left(x,\\epsilon \\phi{\\left(x \\right)} + y{\\left(x \\right)},\\frac{\\partial}{\\partial x} \\left(\\epsilon \\phi{\\left(x \\right)} + y{\\left(x \\right)}\\right) \\right)}\\, dx$"
          },
          "metadata": {},
          "execution_count": 2
        }
      ]
    },
    {
      "cell_type": "code",
      "source": [
        "Jfinal = Jvar.diff(eps).subs(eps, 0)\n",
        "Jfinal"
      ],
      "metadata": {
        "colab": {
          "base_uri": "https://localhost:8080/",
          "height": 80
        },
        "id": "1aI_Bgfa51Bg",
        "outputId": "dc728e5a-9818-41c0-849e-6ebcadde893c"
      },
      "execution_count": 3,
      "outputs": [
        {
          "output_type": "execute_result",
          "data": {
            "text/plain": [
              "Integral(phi(x)*Subs(Derivative(F(x, _xi_2, Derivative(y(x), x)), _xi_2), _xi_2, y(x)) + Derivative(phi(x), x)*Subs(Derivative(F(x, y(x), _xi_3), _xi_3), _xi_3, Derivative(y(x), x)), (x, a, b))"
            ],
            "text/latex": "$\\displaystyle \\int\\limits_{a}^{b} \\left(\\phi{\\left(x \\right)} \\left. \\frac{\\partial}{\\partial \\xi_{2}} F{\\left(x,\\xi_{2},\\frac{d}{d x} y{\\left(x \\right)} \\right)} \\right|_{\\substack{ \\xi_{2}=y{\\left(x \\right)} }} + \\frac{d}{d x} \\phi{\\left(x \\right)} \\left. \\frac{\\partial}{\\partial \\xi_{3}} F{\\left(x,y{\\left(x \\right)},\\xi_{3} \\right)} \\right|_{\\substack{ \\xi_{3}=\\frac{d}{d x} y{\\left(x \\right)} }}\\right)\\, dx$"
          },
          "metadata": {},
          "execution_count": 3
        }
      ]
    },
    {
      "cell_type": "code",
      "source": [
        "from sympy import expand, Wild, Eq\n",
        "# Jpart_before = Jfinal.expand().args[0]\n",
        "Jpart_before = Jfinal.expand()\n",
        "u = Wild('u')\n",
        "\n",
        "# beware: subs vs replace vs xreplace\n",
        "Jpart_after = Jpart_before.replace(\n",
        "    Integral(u * Derivative(phi(x),x), (x,a,b)),\n",
        "    -Integral(Derivative(u,x) * phi(x), (x,a,b)))\n",
        "\n",
        "Eq(Jpart_before, Jpart_after)"
      ],
      "metadata": {
        "id": "fctaH6F_P6VO",
        "colab": {
          "base_uri": "https://localhost:8080/",
          "height": 143
        },
        "outputId": "719fe0d6-336a-4a9d-d045-d076bc2022ae"
      },
      "execution_count": 5,
      "outputs": [
        {
          "output_type": "execute_result",
          "data": {
            "text/plain": [
              "Eq(Integral(phi(x)*Subs(Derivative(F(x, _xi_2, Derivative(y(x), x)), _xi_2), _xi_2, y(x)), (x, a, b)) + Integral(Derivative(phi(x), x)*Subs(Derivative(F(x, y(x), _xi_3), _xi_3), _xi_3, Derivative(y(x), x)), (x, a, b)), -Integral(phi(x)*Derivative(Subs(Derivative(F(_0, y(_0), _xi_3), _xi_3), _xi_3, Derivative(y(_0), _0)), x), (x, a, b)) + Integral(phi(x)*Subs(Derivative(F(x, _xi_2, Derivative(y(x), x)), _xi_2), _xi_2, y(x)), (x, a, b)))"
            ],
            "text/latex": "$\\displaystyle \\int\\limits_{a}^{b} \\phi{\\left(x \\right)} \\left. \\frac{\\partial}{\\partial \\xi_{2}} F{\\left(x,\\xi_{2},\\frac{d}{d x} y{\\left(x \\right)} \\right)} \\right|_{\\substack{ \\xi_{2}=y{\\left(x \\right)} }}\\, dx + \\int\\limits_{a}^{b} \\frac{d}{d x} \\phi{\\left(x \\right)} \\left. \\frac{\\partial}{\\partial \\xi_{3}} F{\\left(x,y{\\left(x \\right)},\\xi_{3} \\right)} \\right|_{\\substack{ \\xi_{3}=\\frac{d}{d x} y{\\left(x \\right)} }}\\, dx = - \\int\\limits_{a}^{b} \\phi{\\left(x \\right)} \\frac{d}{d x} \\left. \\frac{\\partial}{\\partial \\xi_{3}} F{\\left(_0,y{\\left(_0 \\right)},\\xi_{3} \\right)} \\right|_{\\substack{ \\xi_{3}=\\frac{d}{d _0} y{\\left(_0 \\right)} }}\\, dx + \\int\\limits_{a}^{b} \\phi{\\left(x \\right)} \\left. \\frac{\\partial}{\\partial \\xi_{2}} F{\\left(x,\\xi_{2},\\frac{d}{d x} y{\\left(x \\right)} \\right)} \\right|_{\\substack{ \\xi_{2}=y{\\left(x \\right)} }}\\, dx$"
          },
          "metadata": {},
          "execution_count": 5
        }
      ]
    }
  ]
}